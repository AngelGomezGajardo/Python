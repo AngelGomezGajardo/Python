{
 "cells": [
  {
   "cell_type": "markdown",
   "id": "e87ee3a5-93b6-4c62-9ef8-c7ebe4d26e43",
   "metadata": {},
   "source": [
    "3.3 Write a program to prompt for a score between 0.0 and 1.0. If the score is out of range, print an error. If the score is between 0.0 and 1.0, print a grade using the following table:\n",
    "Score Grade\n",
    ">= 0.9 A\n",
    ">= 0.8 B\n",
    ">= 0.7 C\n",
    ">= 0.6 D\n",
    "< 0.6 F\n",
    "If the user enters a value out of range, print a suitable error message and exit. For the test, enter a score of 0.85."
   ]
  },
  {
   "cell_type": "code",
   "execution_count": 39,
   "id": "2a0796b2-40ae-49aa-a6c7-c6801661b793",
   "metadata": {},
   "outputs": [
    {
     "name": "stdin",
     "output_type": "stream",
     "text": [
      "Enter Score:  0.85\n"
     ]
    },
    {
     "name": "stdout",
     "output_type": "stream",
     "text": [
      ">= 0.8 B\n"
     ]
    }
   ],
   "source": [
    "score = input(\"Enter Score: \")\n",
    "score=float(score)\n",
    "\n",
    "\n",
    "if ((score>1.0) or (score<0.0)):\n",
    "    try:\n",
    "        print(\"out of range\")\n",
    "    except: \n",
    "        print(\"range ok\")\n",
    "else:\n",
    "    if (score>=0.9 and score<=1.0):\n",
    "        print(\"A\")\n",
    "    elif (score>=0.8 and score<0.9):\n",
    "        print(\"B\")\n",
    "    elif (score>=0.7 and score<0.8):\n",
    "        print(\"C\")\n",
    "    elif (score>=0.6 and score<0.7):\n",
    "        print(\"D\")\n",
    "    elif score<0.6:\n",
    "        print(\"F\")\n",
    "\n",
    "\n"
   ]
  },
  {
   "cell_type": "code",
   "execution_count": 40,
   "id": "a76221c6-e87f-4489-a823-351be31fa17c",
   "metadata": {},
   "outputs": [
    {
     "name": "stdout",
     "output_type": "stream",
     "text": [
      "10\n",
      "20\n"
     ]
    }
   ],
   "source": [
    "def func(x) :\n",
    "    print(x)\n",
    "\n",
    "func(10)\n",
    "func(20)"
   ]
  },
  {
   "cell_type": "code",
   "execution_count": 41,
   "id": "1a16eebf-7b51-48eb-bc81-5740c156be3b",
   "metadata": {},
   "outputs": [
    {
     "name": "stdout",
     "output_type": "stream",
     "text": [
      "Hello\n"
     ]
    }
   ],
   "source": [
    "def stuff():\n",
    "    print('Hello')\n",
    "    return\n",
    "    print('World')\n",
    "\n",
    "stuff()"
   ]
  },
  {
   "cell_type": "code",
   "execution_count": 42,
   "id": "18f8c735-9f45-44e8-88f9-04d61960f190",
   "metadata": {},
   "outputs": [
    {
     "name": "stdout",
     "output_type": "stream",
     "text": [
      "Bonjour Michael\n"
     ]
    }
   ],
   "source": [
    "def greet(lang):\n",
    "    if lang == 'es':\n",
    "        return 'Hola'\n",
    "    elif lang == 'fr':\n",
    "        return 'Bonjour'\n",
    "    else:\n",
    "        return 'Hello'\n",
    "\n",
    "print(greet('fr'),'Michael')"
   ]
  },
  {
   "cell_type": "code",
   "execution_count": 43,
   "id": "41c47cb6-93d8-4a05-8f1b-2fb1a99d52b6",
   "metadata": {},
   "outputs": [
    {
     "name": "stdout",
     "output_type": "stream",
     "text": [
      "2\n"
     ]
    }
   ],
   "source": [
    "def addtwo(a, b):\n",
    "    added = a + b\n",
    "    return a\n",
    "\n",
    "x = addtwo(2, 7)\n",
    "print(x)"
   ]
  },
  {
   "cell_type": "markdown",
   "id": "bed05899-9a16-4ae1-b3a1-db5b2ddc4b73",
   "metadata": {},
   "source": [
    "4.6 Write a program to prompt the user for hours and rate per hour using input to compute gross pay. Pay should be the normal rate for hours up to 40 and time-and-a-half for the hourly rate for all hours worked above 40 hours. Put the logic to do the computation of pay in a function called computepay() and use the function to do the computation. The function should return a value. Use 45 hours and a rate of 10.50 per hour to test the program (the pay should be 498.75). You should use input to read a string and float() to convert the string to a number. Do not worry about error checking the user input unless you want to - you can assume the user types numbers properly. Do not name your variable sum or use the sum() function."
   ]
  },
  {
   "cell_type": "code",
   "execution_count": 45,
   "id": "cd3e0f32-7144-4c60-9a49-0ce3422a6e90",
   "metadata": {},
   "outputs": [
    {
     "name": "stdin",
     "output_type": "stream",
     "text": [
      "Enter Hours: 45\n",
      "Enter Rate: 10.50\n"
     ]
    },
    {
     "name": "stdout",
     "output_type": "stream",
     "text": [
      "Pay 498.75\n"
     ]
    }
   ],
   "source": [
    "def computepay(h, r):\n",
    "    \n",
    "    xPay=float(h)\n",
    "    xRate=float(r)\n",
    "\n",
    "    HrsTr=40\n",
    "    _MultHrs=1.5\n",
    "    \n",
    "    if xPay<=HrsTr:\n",
    "        GrossPay*xRate\n",
    "    if xPay>HrsTr:\n",
    "        _PagN=HrsTr*xRate\n",
    "        Diff=xPay-HrsTr\n",
    "        Diff=(xRate*_MultHrs)*Diff\n",
    "        sueldoBruto=Diff+_PagN\n",
    "    return sueldoBruto\n",
    "\n",
    "h = input(\"Enter Hours:\")\n",
    "r = input(\"Enter Rate:\")\n",
    " \n",
    "p = computepay(h,r)\n",
    "\n",
    "print(\"Pay\", p)"
   ]
  },
  {
   "cell_type": "markdown",
   "id": "ec33649b-1cbd-4845-a9d7-dbee61b3f87d",
   "metadata": {},
   "source": [
    "LOOP AND ITERATION"
   ]
  },
  {
   "cell_type": "code",
   "execution_count": 47,
   "id": "3c395f4c-a471-45b5-8988-df60a8a24c04",
   "metadata": {},
   "outputs": [
    {
     "name": "stdout",
     "output_type": "stream",
     "text": [
      "5\n",
      "4\n",
      "3\n",
      "2\n",
      "1\n",
      "shit\n",
      "0\n"
     ]
    }
   ],
   "source": [
    "n=5\n",
    "while n>0:\n",
    "    print(n)\n",
    "    n=n-1\n",
    "print(\"shit\")\n",
    "print(n)"
   ]
  },
  {
   "cell_type": "code",
   "execution_count": 50,
   "id": "49be8517-e61e-41e1-aada-95d72378859a",
   "metadata": {},
   "outputs": [
    {
     "name": "stdin",
     "output_type": "stream",
     "text": [
      "> done\n"
     ]
    },
    {
     "name": "stdout",
     "output_type": "stream",
     "text": [
      "done!\n"
     ]
    }
   ],
   "source": [
    "while True:\n",
    "    line=input('>')\n",
    "    if line=='done':\n",
    "        break\n",
    "    print(line)\n",
    "print('done!')"
   ]
  },
  {
   "cell_type": "code",
   "execution_count": 53,
   "id": "97c120ea-a294-4ce1-b6e7-ce7a8246f426",
   "metadata": {},
   "outputs": [
    {
     "name": "stdin",
     "output_type": "stream",
     "text": [
      "> done}\n"
     ]
    },
    {
     "name": "stdout",
     "output_type": "stream",
     "text": [
      "done}\n"
     ]
    },
    {
     "name": "stdin",
     "output_type": "stream",
     "text": [
      "> done\n"
     ]
    },
    {
     "name": "stdout",
     "output_type": "stream",
     "text": [
      "done!\n"
     ]
    }
   ],
   "source": [
    "while True:\n",
    "    line=input('>')\n",
    "    if line[0]=='#':\n",
    "        continue\n",
    "    if line == 'done':\n",
    "        break\n",
    "    print(line)\n",
    "print('done!')"
   ]
  },
  {
   "cell_type": "code",
   "execution_count": 1,
   "id": "88ba7b32-6a5c-4587-886e-c97af77fc24a",
   "metadata": {},
   "outputs": [
    {
     "name": "stdout",
     "output_type": "stream",
     "text": [
      "-1\n"
     ]
    }
   ],
   "source": [
    "smallest_so_far = -1\n",
    "for the_num in [9, 41, 12, 3, 74, 15] :\n",
    "   if the_num < smallest_so_far :\n",
    "      smallest_so_far = the_num\n",
    "print(smallest_so_far)"
   ]
  },
  {
   "cell_type": "markdown",
   "id": "7e9f7275-4441-4b1e-82f5-26aadd834105",
   "metadata": {},
   "source": [
    "5.2 Escriba un programa que solicite repetidamente al usuario que ingrese números enteros hasta que ingrese \"done\". Una vez que ingrese \"done\", imprima el número más grande y el más pequeño. Si el usuario ingresa cualquier número que no sea válido, captúrelo con un try/except y envíe un mensaje apropiado e ignore el número. Ingrese 7, 2, bob, 10 y 4 y haga coincidir el resultado a continuación.\n",
    "Invalid input\n",
    "Maximum is 10\n",
    "Minimum is 2"
   ]
  },
  {
   "cell_type": "code",
   "execution_count": 27,
   "id": "816fe6c1-8966-40dd-8b0e-2611f4e8efe6",
   "metadata": {},
   "outputs": [
    {
     "name": "stdin",
     "output_type": "stream",
     "text": [
      "Enter a number:  hola\n"
     ]
    },
    {
     "name": "stdout",
     "output_type": "stream",
     "text": [
      "Invalid input\n"
     ]
    }
   ],
   "source": [
    "try:\n",
    "    num = input(\"Enter a number: \")  # Pedir entrada del usuario\n",
    "    num = float(num)  # Intentar convertir la entrada a un número\n",
    "except ValueError:  # Capturar el error si la conversión falla\n",
    "    print(\"Invalid input\")\n",
    "else:\n",
    "    print(f\"The number is: {num}\")  # Imprimir el número si es válido"
   ]
  },
  {
   "cell_type": "code",
   "execution_count": 62,
   "id": "aac894c5-0d77-42e7-bb2c-7b58ecd31c42",
   "metadata": {},
   "outputs": [
    {
     "name": "stdin",
     "output_type": "stream",
     "text": [
      "Enter a number:  20\n",
      "Enter a number:  30\n",
      "Enter a number:  40\n",
      "Enter a number:  2\n",
      "Enter a number:  done\n"
     ]
    },
    {
     "name": "stdout",
     "output_type": "stream",
     "text": [
      "40.0\n",
      "2.0\n"
     ]
    }
   ],
   "source": [
    "largest = None\n",
    "smallest = None\n",
    "auxNum=None \n",
    "while True:\n",
    "    num = input(\"Enter a number: \")\n",
    "    if num == \"done\":\n",
    "        break\n",
    "    try:\n",
    "        num=float(num)\n",
    "    except ValueError:\n",
    "        print(\"invalid input\")\n",
    "    else:\n",
    "        if largest==None:\n",
    "            largest=num\n",
    "        if smallest==None:\n",
    "            smallest=num\n",
    "            auxNum\n",
    "    \n",
    "        if num >largest:\n",
    "            largest=num\n",
    "        elif num < smallest:\n",
    "            smallest=num\n",
    "        continue\n",
    "\n",
    "\n",
    "print(largest)\n",
    "print(smallest)"
   ]
  },
  {
   "cell_type": "code",
   "execution_count": 2,
   "id": "15a08fa6-d945-4818-b05c-ff329fe7806d",
   "metadata": {},
   "outputs": [
    {
     "name": "stdout",
     "output_type": "stream",
     "text": [
      "b\n",
      "a\n",
      "n\n",
      "a\n",
      "n\n",
      "a\n"
     ]
    }
   ],
   "source": [
    "for letter in 'banana':\n",
    "    print(letter)"
   ]
  },
  {
   "cell_type": "code",
   "execution_count": 3,
   "id": "880e0596-32ac-4b33-a9c9-2ad752656e12",
   "metadata": {},
   "outputs": [
    {
     "data": {
      "text/plain": [
       "str"
      ]
     },
     "execution_count": 3,
     "metadata": {},
     "output_type": "execute_result"
    }
   ],
   "source": [
    "type(letter)"
   ]
  },
  {
   "cell_type": "code",
   "execution_count": 6,
   "id": "648300c6-58fd-4ce6-a9d2-a94882863e37",
   "metadata": {},
   "outputs": [
    {
     "name": "stdout",
     "output_type": "stream",
     "text": [
      "1\n",
      "2\n",
      "8\n",
      "100\n",
      "200\n",
      "datacamp\n",
      "tutorial\n"
     ]
    }
   ],
   "source": [
    "sequence = [1,2,8,100,200,'datacamp','tutorial']\n",
    "for i in sequence:\n",
    "    print(i)"
   ]
  },
  {
   "cell_type": "code",
   "execution_count": 7,
   "id": "c7c091ca-9948-42d8-9e81-7640a8a5b2d8",
   "metadata": {},
   "outputs": [
    {
     "name": "stdout",
     "output_type": "stream",
     "text": [
      "Hola Mundo\n"
     ]
    }
   ],
   "source": [
    "s=\"Hola Mundo\"\n",
    "print(s[:])"
   ]
  },
  {
   "cell_type": "code",
   "execution_count": 17,
   "id": "d29a54d2-052f-4cc8-8fba-f174c51077f2",
   "metadata": {},
   "outputs": [
    {
     "name": "stdout",
     "output_type": "stream",
     "text": [
      "Hola\n",
      "Mundo\n"
     ]
    }
   ],
   "source": [
    "s=\"Hola Mundo\"\n",
    "print(s[0:4])\n",
    "print(s[5:30])"
   ]
  },
  {
   "cell_type": "code",
   "execution_count": 8,
   "id": "deb08b66-50e5-4e18-9385-979c9274617b",
   "metadata": {},
   "outputs": [
    {
     "data": {
      "text/plain": [
       "['__call__',\n",
       " '__class__',\n",
       " '__delattr__',\n",
       " '__dir__',\n",
       " '__doc__',\n",
       " '__eq__',\n",
       " '__format__',\n",
       " '__ge__',\n",
       " '__getattribute__',\n",
       " '__getstate__',\n",
       " '__gt__',\n",
       " '__hash__',\n",
       " '__init__',\n",
       " '__init_subclass__',\n",
       " '__le__',\n",
       " '__lt__',\n",
       " '__module__',\n",
       " '__name__',\n",
       " '__ne__',\n",
       " '__new__',\n",
       " '__qualname__',\n",
       " '__reduce__',\n",
       " '__reduce_ex__',\n",
       " '__repr__',\n",
       " '__self__',\n",
       " '__setattr__',\n",
       " '__sizeof__',\n",
       " '__str__',\n",
       " '__subclasshook__',\n",
       " '__text_signature__']"
      ]
     },
     "execution_count": 8,
     "metadata": {},
     "output_type": "execute_result"
    }
   ],
   "source": [
    "dir(print)"
   ]
  },
  {
   "cell_type": "code",
   "execution_count": 9,
   "id": "f220b70c-2a88-4060-9ed0-ccb57f1c1882",
   "metadata": {},
   "outputs": [],
   "source": [
    "var=\"Hola\""
   ]
  },
  {
   "cell_type": "code",
   "execution_count": 11,
   "id": "409a5568-75a6-484f-a383-5a3b9ae9ba68",
   "metadata": {},
   "outputs": [
    {
     "data": {
      "text/plain": [
       "str"
      ]
     },
     "execution_count": 11,
     "metadata": {},
     "output_type": "execute_result"
    }
   ],
   "source": [
    "type(var)"
   ]
  },
  {
   "cell_type": "code",
   "execution_count": 13,
   "id": "045e810b-6685-474f-ad95-c022deeda1fa",
   "metadata": {},
   "outputs": [
    {
     "data": {
      "text/plain": [
       "['__add__',\n",
       " '__class__',\n",
       " '__contains__',\n",
       " '__delattr__',\n",
       " '__dir__',\n",
       " '__doc__',\n",
       " '__eq__',\n",
       " '__format__',\n",
       " '__ge__',\n",
       " '__getattribute__',\n",
       " '__getitem__',\n",
       " '__getnewargs__',\n",
       " '__getstate__',\n",
       " '__gt__',\n",
       " '__hash__',\n",
       " '__init__',\n",
       " '__init_subclass__',\n",
       " '__iter__',\n",
       " '__le__',\n",
       " '__len__',\n",
       " '__lt__',\n",
       " '__mod__',\n",
       " '__mul__',\n",
       " '__ne__',\n",
       " '__new__',\n",
       " '__reduce__',\n",
       " '__reduce_ex__',\n",
       " '__repr__',\n",
       " '__rmod__',\n",
       " '__rmul__',\n",
       " '__setattr__',\n",
       " '__sizeof__',\n",
       " '__str__',\n",
       " '__subclasshook__',\n",
       " 'capitalize',\n",
       " 'casefold',\n",
       " 'center',\n",
       " 'count',\n",
       " 'encode',\n",
       " 'endswith',\n",
       " 'expandtabs',\n",
       " 'find',\n",
       " 'format',\n",
       " 'format_map',\n",
       " 'index',\n",
       " 'isalnum',\n",
       " 'isalpha',\n",
       " 'isascii',\n",
       " 'isdecimal',\n",
       " 'isdigit',\n",
       " 'isidentifier',\n",
       " 'islower',\n",
       " 'isnumeric',\n",
       " 'isprintable',\n",
       " 'isspace',\n",
       " 'istitle',\n",
       " 'isupper',\n",
       " 'join',\n",
       " 'ljust',\n",
       " 'lower',\n",
       " 'lstrip',\n",
       " 'maketrans',\n",
       " 'partition',\n",
       " 'removeprefix',\n",
       " 'removesuffix',\n",
       " 'replace',\n",
       " 'rfind',\n",
       " 'rindex',\n",
       " 'rjust',\n",
       " 'rpartition',\n",
       " 'rsplit',\n",
       " 'rstrip',\n",
       " 'split',\n",
       " 'splitlines',\n",
       " 'startswith',\n",
       " 'strip',\n",
       " 'swapcase',\n",
       " 'title',\n",
       " 'translate',\n",
       " 'upper',\n",
       " 'zfill']"
      ]
     },
     "execution_count": 13,
     "metadata": {},
     "output_type": "execute_result"
    }
   ],
   "source": [
    "dir(var) #dir indica que es capaz de hacer esa variable str}\n"
   ]
  },
  {
   "cell_type": "code",
   "execution_count": 1,
   "id": "13e2c4e0-602f-47d0-a8a3-c27acc79b0e7",
   "metadata": {},
   "outputs": [
    {
     "name": "stdout",
     "output_type": "stream",
     "text": [
      "2\n"
     ]
    }
   ],
   "source": [
    "fruit=\"banana\"\n",
    "position=fruit.find(\"na\")\n",
    "print(position)\n"
   ]
  },
  {
   "cell_type": "code",
   "execution_count": 2,
   "id": "f66f789f-a8e7-4c9f-ae45-06c795d6685b",
   "metadata": {},
   "outputs": [
    {
     "name": "stdout",
     "output_type": "stream",
     "text": [
      "-1\n"
     ]
    }
   ],
   "source": [
    "#if la letra palabra o seccion buscada no existe, el metodo find devuelve un -1\n",
    "fruit=\"banana\"\n",
    "position=fruit.find(\"z\")\n",
    "print(position)"
   ]
  },
  {
   "cell_type": "code",
   "execution_count": 8,
   "id": "3a1c4749-1669-40f7-bd58-f11389ab4077",
   "metadata": {},
   "outputs": [
    {
     "name": "stdout",
     "output_type": "stream",
     "text": [
      "BANANA\n",
      "Banana\n",
      "banana\n"
     ]
    }
   ],
   "source": [
    "#hacer que todo sea mayuscula o minuscula, up es otra variable por lo tanto la original no se manipula\n",
    "fruit=\"Banana\"\n",
    "up=fruit.upper()\n",
    "print(up)\n",
    "print(fruit)\n",
    "lo=fruit.lower()\n",
    "print(lo)"
   ]
  },
  {
   "cell_type": "code",
   "execution_count": 10,
   "id": "39198f63-cf16-4d6a-a975-0a9fd2e1da69",
   "metadata": {},
   "outputs": [
    {
     "name": "stdout",
     "output_type": "stream",
     "text": [
      "Hola nana\n"
     ]
    }
   ],
   "source": [
    "#buscar y cambiar palabras\n",
    "fruit=\"Banana\"\n",
    "Cp=fruit.replace(\"Ba\",\"Hola \")\n",
    "print(Cp)\n"
   ]
  },
  {
   "cell_type": "code",
   "execution_count": 24,
   "id": "65f205f3-6634-4223-aebf-ffe18e57eb1a",
   "metadata": {},
   "outputs": [
    {
     "name": "stdout",
     "output_type": "stream",
     "text": [
      "ok\n",
      "ok\n"
     ]
    },
    {
     "data": {
      "text/plain": [
       "'derecha'"
      ]
     },
     "execution_count": 24,
     "metadata": {},
     "output_type": "execute_result"
    }
   ],
   "source": [
    "#eliminar espacios, con strip se borrar ambos lados con lstrip se borra la izquierda left y rstrip la derecha\n",
    "fruit='    Banana   '\n",
    "fruit.strip()\n",
    "print(\"ok\")\n",
    "izq='    izquierda'\n",
    "izq.lstrip()\n",
    "print(\"ok\")\n",
    "der='derecha    '\n",
    "der.rstrip()"
   ]
  },
  {
   "cell_type": "code",
   "execution_count": 25,
   "id": "dfac1f91-a0ad-44c5-8aea-aff5aa434f58",
   "metadata": {},
   "outputs": [
    {
     "data": {
      "text/plain": [
       "True"
      ]
     },
     "execution_count": 25,
     "metadata": {},
     "output_type": "execute_result"
    }
   ],
   "source": [
    "#comienza con \n",
    "line=\"Please give me a day\"\n",
    "line.startswith(\"Please\")"
   ]
  },
  {
   "cell_type": "code",
   "execution_count": 26,
   "id": "bb8fa615-f81f-44f7-94e2-c21304a2d5c4",
   "metadata": {},
   "outputs": [
    {
     "data": {
      "text/plain": [
       "False"
      ]
     },
     "execution_count": 26,
     "metadata": {},
     "output_type": "execute_result"
    }
   ],
   "source": [
    "#comienza con, es sensible a mayuscula y minusculas\n",
    "line=\"Please give me a day\"\n",
    "line.startswith(\"please\")"
   ]
  },
  {
   "cell_type": "code",
   "execution_count": 53,
   "id": "133abe87-a30a-401e-a121-353cce35f343",
   "metadata": {},
   "outputs": [
    {
     "name": "stdout",
     "output_type": "stream",
     "text": [
      "16\n",
      "4\n",
      "segundo espacio:  33\n",
      "tercer espacio:  33\n",
      "angel.gomez@mirsrobotics.com\n"
     ]
    }
   ],
   "source": [
    "data=\"from angel.gomez@mirsrobotics.com at 20-01-2025\"\n",
    "arroba=data.find(\"@\")\n",
    "print(arroba)\n",
    "espacio=data.find(\" \")\n",
    "print(espacio)\n",
    "espacio2=data.find(\" \",arroba)\n",
    "print(\"segundo espacio: \",espacio2)\n",
    "correo=data[espacio+1:espacio2]\n",
    "print(correo)\n",
    "\n",
    "\n"
   ]
  },
  {
   "cell_type": "code",
   "execution_count": 51,
   "id": "801a8801-3cac-419f-8041-5376cda4faec",
   "metadata": {},
   "outputs": [
    {
     "name": "stdout",
     "output_type": "stream",
     "text": [
      "39\n",
      "-1\n"
     ]
    },
    {
     "data": {
      "text/plain": [
       "b'from angel.gomez@mirsrobotics.com at 20-01-2025'"
      ]
     },
     "execution_count": 51,
     "metadata": {},
     "output_type": "execute_result"
    }
   ],
   "source": [
    "#buscaremos la fecha ahora\n",
    "data=\"from angel.gomez@mirsrobotics.com at 20-01-2025\"\n",
    "guion=data.find(\"-\")\n",
    "print(guion)\n",
    "Esp_Antes_delGuion=data.find(\" \",guion)\n",
    "print(Esp_Antes_delGuion)"
   ]
  },
  {
   "cell_type": "code",
   "execution_count": 59,
   "id": "f1a1ef4f-c740-47d7-afb5-bfa47b241771",
   "metadata": {},
   "outputs": [
    {
     "name": "stdout",
     "output_type": "stream",
     "text": [
      "8\n",
      "q\n"
     ]
    }
   ],
   "source": [
    "x='From marquard@uct.ac.za'\n",
    "qu=x.find(\"q\")\n",
    "print(qu)\n",
    "print(x[8])"
   ]
  },
  {
   "cell_type": "code",
   "execution_count": 60,
   "id": "01d80372-dfa6-4571-b349-975dba0329f0",
   "metadata": {},
   "outputs": [
    {
     "name": "stdout",
     "output_type": "stream",
     "text": [
      "uct\n"
     ]
    }
   ],
   "source": [
    "x = 'From marquard@uct.ac.za'\n",
    "correo=x[14:17]\n",
    "print(correo)"
   ]
  },
  {
   "cell_type": "code",
   "execution_count": 61,
   "id": "d1cfb0d6-d4b6-4ff0-9507-f618b5b7ad8a",
   "metadata": {},
   "outputs": [
    {
     "name": "stdout",
     "output_type": "stream",
     "text": [
      "HOLA MUNDO\n"
     ]
    }
   ],
   "source": [
    "greet=\"hola mundo\"\n",
    "print(greet.upper())"
   ]
  },
  {
   "cell_type": "code",
   "execution_count": 62,
   "id": "2e51b3f0-04a0-48bb-a1e0-c7974075db97",
   "metadata": {},
   "outputs": [
    {
     "name": "stdout",
     "output_type": "stream",
     "text": [
      ".ma\n"
     ]
    }
   ],
   "source": [
    "data = 'From stephen.marquard@uct.ac.za Sat Jan  5 09:14:16 2008'\n",
    "pos = data.find('.')\n",
    "print(data[pos:pos+3])"
   ]
  },
  {
   "cell_type": "code",
   "execution_count": 73,
   "id": "e4be6727-e05b-410a-bbc4-6406c189f23c",
   "metadata": {},
   "outputs": [
    {
     "name": "stdout",
     "output_type": "stream",
     "text": [
      "0.8475\n"
     ]
    }
   ],
   "source": [
    "\n",
    "text = \"X-DSPAM-Confidence:    0.8475\"\n",
    "N_esp=text.find(\" \")\n",
    "Cadn=(text[N_esp:])\n",
    "nuevoN=(Cadn.strip())\n",
    "numero=float(nuevoN)\n",
    "print(numero)\n"
   ]
  },
  {
   "cell_type": "code",
   "execution_count": 2,
   "id": "a831c567-d6da-464e-a930-32fa00f949fb",
   "metadata": {},
   "outputs": [
    {
     "name": "stdout",
     "output_type": "stream",
     "text": [
      "Hola\n",
      "Mundo\n"
     ]
    }
   ],
   "source": [
    "saltoLinea=\"Hola\\nMundo\"\n",
    "saltoLinea\n",
    "print(saltoLinea)"
   ]
  },
  {
   "cell_type": "code",
   "execution_count": 4,
   "id": "a7450a55-ad08-4e22-b018-894fe23cb2fd",
   "metadata": {},
   "outputs": [],
   "source": []
  },
  {
   "cell_type": "code",
   "execution_count": 5,
   "id": "964c184f-4842-43c7-8366-1b4047f0a67f",
   "metadata": {},
   "outputs": [
    {
     "data": {
      "text/plain": [
       "<_io.TextIOWrapper name='mbox-short.txt' mode='r' encoding='cp1252'>"
      ]
     },
     "execution_count": 5,
     "metadata": {},
     "output_type": "execute_result"
    }
   ],
   "source": [
    "fhand"
   ]
  },
  {
   "cell_type": "code",
   "execution_count": 7,
   "id": "4686b8aa-836c-4714-a823-3ba114e803b6",
   "metadata": {},
   "outputs": [
    {
     "name": "stdout",
     "output_type": "stream",
     "text": [
      "132045\n"
     ]
    }
   ],
   "source": [
    "fhand=open('mbox.txt')\n",
    "count=0\n",
    "for line in fhand:\n",
    "    count =count + 1\n",
    "print(count)"
   ]
  },
  {
   "cell_type": "code",
   "execution_count": 8,
   "id": "06dbed3f-509f-4bd2-9320-804854e55864",
   "metadata": {},
   "outputs": [
    {
     "name": "stdout",
     "output_type": "stream",
     "text": [
      "94643\n",
      "inicio texto: From stephen.marquar\n",
      "fin texto: ifications at My Workspace > Preferences.\n",
      "\n",
      "\n"
     ]
    }
   ],
   "source": [
    "fhand2=open('mbox-short.txt')\n",
    "lee=fhand2.read() #lee cuantos caracteres hay\n",
    "#print(lee) #imprime el texto que se encuentra en lee que a su vez es lo que aparece en fhand y a su vez en mbox-short.txt\n",
    "print(len(lee)) #cuenta cuantos caracteres hay y los muestra\n",
    "print(\"inicio texto:\",lee[:20]) #imprime desde el inicio hasta el caracter numero 20\n",
    "print(\"fin texto:\",lee[94600:])"
   ]
  },
  {
   "cell_type": "code",
   "execution_count": 24,
   "id": "74c607ca-52ef-4387-b2fc-aa8e016d4579",
   "metadata": {},
   "outputs": [
    {
     "name": "stdout",
     "output_type": "stream",
     "text": [
      "From stephen.marquardHOLA@uct.ac.zaAGREGADOAHORA Sat Jan  5 09:14:16 2008\n",
      "From: stephen.marquard@uct.ac.za\n",
      "From louis@media.berkeley.edu Fri Jan  4 18:10:48 2008\n",
      "From: louis@media.berkeley.edu\n",
      "From zqian@umich.edu Fri Jan  4 16:10:39 2008\n",
      "From: zqian@umich.edu\n",
      "From rjlowe@iupui.edu Fri Jan  4 15:46:24 2008\n",
      "From: rjlowe@iupui.edu\n",
      "From zqian@umich.edu Fri Jan  4 15:03:18 2008\n",
      "From: zqian@umich.edu\n",
      "From rjlowe@iupui.edu Fri Jan  4 14:50:18 2008\n",
      "From: rjlowe@iupui.edu\n",
      "From cwen@iupui.edu Fri Jan  4 11:37:30 2008\n",
      "From: cwen@iupui.edu\n",
      "From cwen@iupui.edu Fri Jan  4 11:35:08 2008\n",
      "From: cwen@iupui.edu\n",
      "From gsilver@umich.edu Fri Jan  4 11:12:37 2008\n",
      "From: gsilver@umich.edu\n",
      "From gsilver@umich.edu Fri Jan  4 11:11:52 2008\n",
      "From: gsilver@umich.edu\n",
      "From zqian@umich.edu Fri Jan  4 11:11:03 2008\n",
      "From: zqian@umich.edu\n",
      "From gsilver@umich.edu Fri Jan  4 11:10:22 2008\n",
      "From: gsilver@umich.edu\n",
      "From wagnermr@iupui.edu Fri Jan  4 10:38:42 2008\n",
      "From: wagnermr@iupui.edu\n",
      "From zqian@umich.edu Fri Jan  4 10:17:43 2008\n",
      "From: zqian@umich.edu\n",
      "From antranig@caret.cam.ac.uk Fri Jan  4 10:04:14 2008\n",
      "From: antranig@caret.cam.ac.uk\n",
      "From gopal.ramasammycook@gmail.com Fri Jan  4 09:05:31 2008\n",
      "From: gopal.ramasammycook@gmail.com\n",
      "From david.horwitz@uct.ac.za Fri Jan  4 07:02:32 2008\n",
      "From: david.horwitz@uct.ac.za\n",
      "From david.horwitz@uct.ac.za Fri Jan  4 06:08:27 2008\n",
      "From: david.horwitz@uct.ac.za\n",
      "From david.horwitz@uct.ac.za Fri Jan  4 04:49:08 2008\n",
      "From: david.horwitz@uct.ac.za\n",
      "From david.horwitz@uct.ac.za Fri Jan  4 04:33:44 2008\n",
      "From: david.horwitz@uct.ac.za\n",
      "From stephen.marquard@uct.ac.za Fri Jan  4 04:07:34 2008\n",
      "From: stephen.marquard@uct.ac.za\n",
      "From louis@media.berkeley.edu Thu Jan  3 19:51:21 2008\n",
      "From: louis@media.berkeley.edu\n",
      "From louis@media.berkeley.edu Thu Jan  3 17:18:23 2008\n",
      "From: louis@media.berkeley.edu\n",
      "From ray@media.berkeley.edu Thu Jan  3 17:07:00 2008\n",
      "From: ray@media.berkeley.edu\n",
      "From cwen@iupui.edu Thu Jan  3 16:34:40 2008\n",
      "From: cwen@iupui.edu\n",
      "From cwen@iupui.edu Thu Jan  3 16:29:07 2008\n",
      "From: cwen@iupui.edu\n",
      "From cwen@iupui.edu Thu Jan  3 16:23:48 2008\n",
      "From: cwen@iupui.edu\n"
     ]
    }
   ],
   "source": [
    "#buscar dentro del texto, un texto que coindice con un parametro\n",
    "fhand5=open('mbox-short.txt')\n",
    "for lines in fhand5:\n",
    "    lines=lines.rstrip() #elimina los espacios del lado derecho\n",
    "    if lines.startswith('From'):\n",
    "        print(lines)"
   ]
  },
  {
   "cell_type": "code",
   "execution_count": 18,
   "id": "16087756-ab2d-4f57-b801-673f7210460f",
   "metadata": {},
   "outputs": [
    {
     "name": "stdout",
     "output_type": "stream",
     "text": [
      "<_io.TextIOWrapper name='correos.txt' mode='r' encoding='cp1252'>\n"
     ]
    }
   ],
   "source": [
    "#buscar dentro del texto, un texto que coindice con un parametro\n",
    "fhand5=open('correos.txt')\n",
    "print(fhand5)\n",
    "lectura=fhand5.read()"
   ]
  },
  {
   "cell_type": "code",
   "execution_count": 22,
   "id": "e85caec8-d9ff-4803-9783-0faa05816b33",
   "metadata": {},
   "outputs": [
    {
     "name": "stdout",
     "output_type": "stream",
     "text": [
      "From stephen.marquardHOLA@uct.ac.zaAGREGADOAHORA Sat Jan  5 09:14:16 2008\n",
      "From: stephen.marquard@uct.ac.za\n",
      "From louis@media.berkeley.edu Fri Jan  4 18:10:48 2008\n",
      "From: louis@media.berkeley.edu\n",
      "From zqian@umich.edu Fri Jan  4 16:10:39 2008\n",
      "From: zqian@umich.edu\n",
      "From rjlowe@iupui.edu Fri Jan  4 15:46:24 2008\n",
      "From: rjlowe@iupui.edu\n",
      "From zqian@umich.edu Fri Jan  4 15:03:18 2008\n",
      "From: zqian@umich.edu\n",
      "From rjlowe@iupui.edu Fri Jan  4 14:50:18 2008\n",
      "From: rjlowe@iupui.edu\n",
      "From cwen@iupui.edu Fri Jan  4 11:37:30 2008\n",
      "From: cwen@iupui.edu\n",
      "From cwen@iupui.edu Fri Jan  4 11:35:08 2008\n",
      "From: cwen@iupui.edu\n",
      "From gsilver@umich.edu Fri Jan  4 11:12:37 2008\n",
      "From: gsilver@umich.edu\n",
      "From gsilver@umich.edu Fri Jan  4 11:11:52 2008\n",
      "From: gsilver@umich.edu\n",
      "From zqian@umich.edu Fri Jan  4 11:11:03 2008\n",
      "From: zqian@umich.edu\n",
      "From gsilver@umich.edu Fri Jan  4 11:10:22 2008\n",
      "From: gsilver@umich.edu\n",
      "From wagnermr@iupui.edu Fri Jan  4 10:38:42 2008\n",
      "From: wagnermr@iupui.edu\n",
      "From zqian@umich.edu Fri Jan  4 10:17:43 2008\n",
      "From: zqian@umich.edu\n",
      "From antranig@caret.cam.ac.uk Fri Jan  4 10:04:14 2008\n",
      "From: antranig@caret.cam.ac.uk\n",
      "From gopal.ramasammycook@gmail.com Fri Jan  4 09:05:31 2008\n",
      "From: gopal.ramasammycook@gmail.com\n",
      "From david.horwitz@uct.ac.za Fri Jan  4 07:02:32 2008\n",
      "From: david.horwitz@uct.ac.za\n",
      "From david.horwitz@uct.ac.za Fri Jan  4 06:08:27 2008\n",
      "From: david.horwitz@uct.ac.za\n",
      "From david.horwitz@uct.ac.za Fri Jan  4 04:49:08 2008\n",
      "From: david.horwitz@uct.ac.za\n",
      "From david.horwitz@uct.ac.za Fri Jan  4 04:33:44 2008\n",
      "From: david.horwitz@uct.ac.za\n",
      "From stephen.marquard@uct.ac.za Fri Jan  4 04:07:34 2008\n",
      "From: stephen.marquard@uct.ac.za\n",
      "From louis@media.berkeley.edu Thu Jan  3 19:51:21 2008\n",
      "From: louis@media.berkeley.edu\n",
      "From louis@media.berkeley.edu Thu Jan  3 17:18:23 2008\n",
      "From: louis@media.berkeley.edu\n",
      "From ray@media.berkeley.edu Thu Jan  3 17:07:00 2008\n",
      "From: ray@media.berkeley.edu\n",
      "From cwen@iupui.edu Thu Jan  3 16:34:40 2008\n",
      "From: cwen@iupui.edu\n",
      "From cwen@iupui.edu Thu Jan  3 16:29:07 2008\n",
      "From: cwen@iupui.edu\n",
      "From cwen@iupui.edu Thu Jan  3 16:23:48 2008\n",
      "From: cwen@iupui.edu\n"
     ]
    }
   ],
   "source": [
    "#buscar dentro del texto, un texto que coindice con un parametro\n",
    "fhand5=open('mbox-short.txt')\n",
    "for lines in fhand5:\n",
    "    lines=lines.rstrip() #elimina los espacios del lado derecho\n",
    "    if not lines.startswith('From'):\n",
    "        continue\n",
    "    print(lines)"
   ]
  },
  {
   "cell_type": "code",
   "execution_count": 3,
   "id": "81663dff-2818-43a2-aa84-1af80c19c295",
   "metadata": {},
   "outputs": [
    {
     "name": "stdin",
     "output_type": "stream",
     "text": [
      "Ingrese el nombre del archivo a leer: mbox-short\n",
      "ingrese frases a buscar From:\n"
     ]
    },
    {
     "name": "stdout",
     "output_type": "stream",
     "text": [
      "From: stephen.marquard@uct.ac.za\n",
      "From: louis@media.berkeley.edu\n",
      "From: zqian@umich.edu\n",
      "From: rjlowe@iupui.edu\n",
      "From: zqian@umich.edu\n",
      "From: rjlowe@iupui.edu\n",
      "From: cwen@iupui.edu\n",
      "From: cwen@iupui.edu\n",
      "From: gsilver@umich.edu\n",
      "From: gsilver@umich.edu\n",
      "From: zqian@umich.edu\n",
      "From: gsilver@umich.edu\n",
      "From: wagnermr@iupui.edu\n",
      "From: zqian@umich.edu\n",
      "From: antranig@caret.cam.ac.uk\n",
      "From: gopal.ramasammycook@gmail.com\n",
      "From: david.horwitz@uct.ac.za\n",
      "From: david.horwitz@uct.ac.za\n",
      "From: david.horwitz@uct.ac.za\n",
      "From: david.horwitz@uct.ac.za\n",
      "From: stephen.marquard@uct.ac.za\n",
      "From: louis@media.berkeley.edu\n",
      "From: louis@media.berkeley.edu\n",
      "From: ray@media.berkeley.edu\n",
      "From: cwen@iupui.edu\n",
      "From: cwen@iupui.edu\n",
      "From: cwen@iupui.edu\n",
      "there were 27 subject lines in mbox-short.txt\n"
     ]
    }
   ],
   "source": [
    "InUser=input(\"Ingrese el nombre del archivo a leer:\")\n",
    "sentence=input(\"ingrese frases a buscar\")\n",
    "extension=\".txt\"\n",
    "arch=InUser+extension\n",
    "fhand6=open(arch)\n",
    "count=0\n",
    "for line in fhand6:\n",
    "    line=line.strip()\n",
    "    if line.startswith(sentence):\n",
    "        count=count+1\n",
    "        print(line)\n",
    "print(\"there were\", count, \"subject lines in\",arch)\n",
    "        \n",
    "   \n",
    "    "
   ]
  },
  {
   "cell_type": "code",
   "execution_count": 3,
   "id": "43a58bf4-ef20-4338-bee6-1b0b1cf9c425",
   "metadata": {},
   "outputs": [
    {
     "name": "stdin",
     "output_type": "stream",
     "text": [
      "ingrese el nombre del archivo a leer:  correos\n",
      "seleccione el tipo de extensión .txt\n",
      "ingrese frases a buscar From\n"
     ]
    },
    {
     "name": "stdout",
     "output_type": "stream",
     "text": [
      "From: stephen.marquardHOLA@uct.ac.zaAGREGADOAHORA Sat Jan  5 09:14:16 2008\n",
      "From: a.gomezgajardo@uandresbello.edu Sat Jan  5 09:14:16 2008\n",
      "there were 2 subject lines in correos.txt\n"
     ]
    }
   ],
   "source": [
    "\n",
    "while True:\n",
    "    File=input(\"ingrese el nombre del archivo a leer: \")\n",
    "    ext=input(\"seleccione el tipo de extensión\")\n",
    "    arch=File+ext\n",
    "    try:\n",
    "        fhand8=open(arch)\n",
    "        break\n",
    "    except:\n",
    "        print(\"archivo\",arch, \"no encontrado\")\n",
    "    \n",
    "sentence=input(\"ingrese frases a buscar\")\n",
    "\n",
    "count=0\n",
    "for line in fhand8:\n",
    "    line=line.strip()\n",
    "    if line.startswith(sentence):\n",
    "        count=count+1\n",
    "        print(line)\n",
    "print(\"there were\", count, \"subject lines in\",arch)\n",
    "\n",
    "    "
   ]
  },
  {
   "cell_type": "markdown",
   "id": "b574d467-1fa4-4174-9036-1f205a30d63c",
   "metadata": {},
   "source": [
    "7.1 Write a program that prompts for a file name, then opens that file and reads through the file, and print the contents of the file in upper case. Use the file words.txt to produce the output below.\n",
    "You can download the sample data at http://www.py4e.com/code3/words.txt"
   ]
  },
  {
   "cell_type": "code",
   "execution_count": 49,
   "id": "01a0fc18-dd0f-4ac3-9c25-d1162da6484b",
   "metadata": {},
   "outputs": [
    {
     "name": "stdin",
     "output_type": "stream",
     "text": [
      "Enter file name:  words.txt\n"
     ]
    },
    {
     "name": "stdout",
     "output_type": "stream",
     "text": [
      "WRITING PROGRAMS OR PROGRAMMING IS A VERY CREATIVE\n",
      "AND REWARDING ACTIVITY  YOU CAN WRITE PROGRAMS FOR\n",
      "MANY REASONS RANGING FROM MAKING YOUR LIVING TO SOLVING\n",
      "A DIFFICULT DATA ANALYSIS PROBLEM TO HAVING FUN TO HELPING\n",
      "SOMEONE ELSE SOLVE A PROBLEM  THIS BOOK ASSUMES THAT\n",
      "{\\EM EVERYONE} NEEDS TO KNOW HOW TO PROGRAM AND THAT ONCE\n",
      "YOU KNOW HOW TO PROGRAM, YOU WILL FIGURE OUT WHAT YOU WANT\n",
      "TO DO WITH YOUR NEWFOUND SKILLS\n",
      "\n",
      "WE ARE SURROUNDED IN OUR DAILY LIVES WITH COMPUTERS RANGING\n",
      "FROM LAPTOPS TO CELL PHONES  WE CAN THINK OF THESE COMPUTERS\n",
      "AS OUR PERSONAL ASSISTANTS WHO CAN TAKE CARE OF MANY THINGS\n",
      "ON OUR BEHALF  THE HARDWARE IN OUR CURRENT-DAY COMPUTERS\n",
      "IS ESSENTIALLY BUILT TO CONTINUOUSLY ASK US THE QUESTION\n",
      "WHAT WOULD YOU LIKE ME TO DO NEXT\n",
      "\n",
      "OUR COMPUTERS ARE FAST AND HAVE VASTS AMOUNTS OF MEMORY AND \n",
      "COULD BE VERY HELPFUL TO US IF WE ONLY KNEW THE LANGUAGE TO \n",
      "SPEAK TO EXPLAIN TO THE COMPUTER WHAT WE WOULD LIKE IT TO \n",
      "DO NEXT IF WE KNEW THIS LANGUAGE WE COULD TELL THE \n",
      "COMPUTER TO DO TASKS ON OUR BEHALF THAT WERE REPTITIVE  \n",
      "INTERESTINGLY, THE KINDS OF THINGS COMPUTERS CAN DO BEST\n",
      "ARE OFTEN THE KINDS OF THINGS THAT WE HUMANS FIND BORING\n",
      "AND MIND-NUMBING\n"
     ]
    }
   ],
   "source": [
    "# Use words.txt as the file name\n",
    "fname = input(\"Enter file name: \")\n",
    "fh = open(fname)\n",
    "lee=fh.read()\n",
    "rs=lee.rstrip()\n",
    "x=rs.upper()\n",
    "print(x)\n"
   ]
  },
  {
   "cell_type": "markdown",
   "id": "86187a9c-8e90-4c87-97f7-07b9888ff529",
   "metadata": {},
   "source": [
    "7.2 Write a program that prompts for a file name, then opens that file and reads through the file, looking for lines of the form:\n",
    "X-DSPAM-Confidence:    0.8475\n",
    "Count these lines and extract the floating point values from each of the lines and compute the average of those values and produce an output as shown below. Do not use the sum() function or a variable named sum in your solution.\n",
    "You can download the sample data at http://www.py4e.com/code3/mbox-short.txt when you are testing below enter mbox-short.txt as the file name."
   ]
  },
  {
   "cell_type": "code",
   "execution_count": 79,
   "id": "c6c0df0b-b940-4f7e-8c39-5abfb3bbb1bd",
   "metadata": {},
   "outputs": [
    {
     "name": "stdout",
     "output_type": "stream",
     "text": [
      "Average spam confidence: 0.7507185185185187\n"
     ]
    }
   ],
   "source": [
    "# Use the file name mbox-short.txt as the file name\n",
    "fname = input(\"Enter file name: \")\n",
    "fh = open(fname)\n",
    "count=0\n",
    "num2=0.0\n",
    "lineTotal=0\n",
    "for line in fh:\n",
    "    line=line.rstrip()\n",
    "    if not line.startswith(\"X-DSPAM-Confidence:\"):\n",
    "        continue\n",
    "    count=count+1\n",
    "    espacio=line.find(\" \")\n",
    "    num=line[espacio:]\n",
    "    num = float(num)\n",
    "    num2=(num+num2)\n",
    "num2=num2/count\n",
    "print(\"Average spam confidence:\", num2)"
   ]
  },
  {
   "cell_type": "markdown",
   "id": "da3b314f-af53-41b7-9f72-7f8c16dc50c0",
   "metadata": {},
   "source": [
    "COLECCION DE DATOS"
   ]
  },
  {
   "cell_type": "code",
   "execution_count": 89,
   "id": "5e508519-e7cc-4ebb-922c-d153c65a35eb",
   "metadata": {},
   "outputs": [
    {
     "name": "stdout",
     "output_type": "stream",
     "text": [
      "Rafael\n",
      "[0, 1, 2]\n"
     ]
    }
   ],
   "source": [
    "friends=['Rafael', 'Bryan', 'Fernanda']\n",
    "print(friends[0])\n",
    "\n",
    "print(list(range(len(friends))))"
   ]
  },
  {
   "cell_type": "code",
   "execution_count": 86,
   "id": "5ed77b79-6c17-4ca5-a618-7d62eb2361ac",
   "metadata": {},
   "outputs": [
    {
     "name": "stdout",
     "output_type": "stream",
     "text": [
      "[1, 3, 6, 9]\n",
      "[85, 3, 6, 9]\n",
      "4\n"
     ]
    }
   ],
   "source": [
    "#las colecciones son mutables\n",
    "\n",
    "var=[1,3,6,9]\n",
    "print(var)\n",
    "var[0]=85\n",
    "print(var)\n",
    "\n",
    "#conocer el largo de la lista\n",
    "print(len(var))"
   ]
  },
  {
   "cell_type": "code",
   "execution_count": 88,
   "id": "c3bb1f87-2413-478b-af7b-48a47536b4c4",
   "metadata": {},
   "outputs": [
    {
     "name": "stdout",
     "output_type": "stream",
     "text": [
      "range(0, 4)\n"
     ]
    }
   ],
   "source": [
    "print(range(4))"
   ]
  },
  {
   "cell_type": "code",
   "execution_count": 94,
   "id": "2c0d3d79-0692-4451-b9dc-8e4fecb52b8d",
   "metadata": {},
   "outputs": [
    {
     "name": "stdout",
     "output_type": "stream",
     "text": [
      "Feliz navidad Rafael\n",
      "Feliz navidad Bryan\n",
      "Feliz navidad Fernanda\n",
      "Feliz navidad Muerto\n"
     ]
    }
   ],
   "source": [
    "#usando range para saber cuantas veces vamos a contar un for\n",
    "i=0\n",
    "friends=['Rafael', 'Bryan', 'Fernanda','Muerto']\n",
    "for i in range(len(friends)):\n",
    "    friend=friends[i]\n",
    "    print('Feliz navidad',friend)\n",
    "          "
   ]
  },
  {
   "cell_type": "code",
   "execution_count": null,
   "id": "71446d2c-6959-44b0-b39b-945bc35a5aa8",
   "metadata": {},
   "outputs": [],
   "source": []
  }
 ],
 "metadata": {
  "kernelspec": {
   "display_name": "Python 3 (ipykernel)",
   "language": "python",
   "name": "python3"
  },
  "language_info": {
   "codemirror_mode": {
    "name": "ipython",
    "version": 3
   },
   "file_extension": ".py",
   "mimetype": "text/x-python",
   "name": "python",
   "nbconvert_exporter": "python",
   "pygments_lexer": "ipython3",
   "version": "3.11.9"
  }
 },
 "nbformat": 4,
 "nbformat_minor": 5
}
