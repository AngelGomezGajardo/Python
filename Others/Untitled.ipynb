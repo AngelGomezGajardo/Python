{
 "cells": [
  {
   "cell_type": "code",
   "execution_count": 2,
   "id": "b73e3937-1e1c-40cd-b988-ca8c58c09fe2",
   "metadata": {},
   "outputs": [
    {
     "name": "stdout",
     "output_type": "stream",
     "text": [
      "happy new years: Rafael\n",
      "happy new years: Bryan\n",
      "happy new years: Fernanda\n"
     ]
    }
   ],
   "source": [
    "friends=['Rafael', 'Bryan', 'Fernanda']\n",
    "for friend in friends:\n",
    "\tprint('happy new years:', friend)"
   ]
  },
  {
   "cell_type": "code",
   "execution_count": 4,
   "id": "fe145827-3e88-4ef9-bbee-cec21acc06fe",
   "metadata": {},
   "outputs": [
    {
     "name": "stdout",
     "output_type": "stream",
     "text": [
      "happy new years: Rafael\n",
      "happy new years: Bryan\n",
      "happy new years: Fernanda\n"
     ]
    }
   ],
   "source": [
    "friends=['Rafael', 'Bryan', 'Fernanda']\n",
    "variable=range(len(friends))\n",
    "\n",
    "for i in variable:\n",
    "\tfriend= friends[i]\n",
    "\tprint('happy new years:', friend)"
   ]
  },
  {
   "cell_type": "code",
   "execution_count": 5,
   "id": "85ea3d7e-b924-46bc-86aa-fd1111db4dfe",
   "metadata": {},
   "outputs": [
    {
     "data": {
      "text/plain": [
       "[1, 5, 6]"
      ]
     },
     "execution_count": 5,
     "metadata": {},
     "output_type": "execute_result"
    }
   ],
   "source": [
    "lis=[1,5,6,8,9,10]\n",
    "lis[0:3]"
   ]
  },
  {
   "cell_type": "code",
   "execution_count": 6,
   "id": "3bb47222-fe6d-4fa7-820a-973399eabf94",
   "metadata": {},
   "outputs": [
    {
     "data": {
      "text/plain": [
       "list"
      ]
     },
     "execution_count": 6,
     "metadata": {},
     "output_type": "execute_result"
    }
   ],
   "source": [
    "x=list()\n",
    "type(x)"
   ]
  },
  {
   "cell_type": "code",
   "execution_count": 10,
   "id": "504646e2-b90d-4234-abec-4b43f166ad3b",
   "metadata": {},
   "outputs": [
    {
     "name": "stdout",
     "output_type": "stream",
     "text": [
      "['agregado', 'con', 'el', 'metodo', 'append']\n"
     ]
    }
   ],
   "source": [
    "stuff =list()\n",
    "stuff.append(\"agregado\")\n",
    "stuff.append(\"con\")\n",
    "stuff.append(\"el\")\n",
    "stuff.append(\"metodo\")\n",
    "stuff.append(\"append\")\n",
    "print(stuff)"
   ]
  },
  {
   "cell_type": "code",
   "execution_count": 14,
   "id": "6a2e53cf-43bb-4272-8ee6-81cebb4406cb",
   "metadata": {},
   "outputs": [
    {
     "name": "stdout",
     "output_type": "stream",
     "text": [
      "True\n",
      "False\n"
     ]
    }
   ],
   "source": [
    "some=[1,2,3,4,5,6,7,8,9,99]\n",
    "resultado=9 in some\n",
    "print(resultado)\n",
    "resultado2=15 in some\n",
    "print(resultado2)"
   ]
  },
  {
   "cell_type": "code",
   "execution_count": 15,
   "id": "4e8db69d-f470-4d76-b82f-45bd91acaa7a",
   "metadata": {},
   "outputs": [
    {
     "name": "stdout",
     "output_type": "stream",
     "text": [
      "6\n",
      "74\n",
      "3\n",
      "154\n",
      "25.666666666666668\n"
     ]
    }
   ],
   "source": [
    "nums=[3,41,12,9,74,15]\n",
    "print(len(nums))\n",
    "print(max(nums))\n",
    "print(min(nums))\n",
    "print(sum(nums))\n",
    "print(sum(nums)/len(nums))"
   ]
  },
  {
   "cell_type": "code",
   "execution_count": null,
   "id": "04f7bf61-23de-4a58-bd67-96bcaf613fe9",
   "metadata": {},
   "outputs": [],
   "source": []
  },
  {
   "cell_type": "code",
   "execution_count": null,
   "id": "c984ae69-c8d6-40cd-9cd2-fbe44e4dde62",
   "metadata": {},
   "outputs": [],
   "source": []
  }
 ],
 "metadata": {
  "kernelspec": {
   "display_name": "Python 3 (ipykernel)",
   "language": "python",
   "name": "python3"
  },
  "language_info": {
   "codemirror_mode": {
    "name": "ipython",
    "version": 3
   },
   "file_extension": ".py",
   "mimetype": "text/x-python",
   "name": "python",
   "nbconvert_exporter": "python",
   "pygments_lexer": "ipython3",
   "version": "3.11.9"
  }
 },
 "nbformat": 4,
 "nbformat_minor": 5
}
