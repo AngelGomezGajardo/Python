{
 "cells": [
  {
   "cell_type": "markdown",
   "id": "0afc4df0-8459-4687-96b1-23f15cac3db9",
   "metadata": {},
   "source": [
    "## Primer paso\n",
    "1. crear una clase Lampara\n",
    "2. regresar con def __str__(self): \n",
    "    return (f\"la marca es de la lampara es: {self.marca}\")\n",
    "    la marca de la lampara\n",
    "3. crear una instancia de Lampara\n",
    "4. imprimir lo que indica la clase Lampara, lo que devuelva esta en def __str__(self)\n"
   ]
  },
  {
   "cell_type": "code",
   "execution_count": 20,
   "id": "007f74a6-9423-44c8-8ad7-7b9832d799b3",
   "metadata": {},
   "outputs": [],
   "source": [
    "class Lampara():\n",
    "    def __init__(self, marca):\n",
    "        self.marca=marca\n",
    "    def __str__(self):\n",
    "        return (f\"la marca es de la lampara es: {self.marca}\")\n",
    "LamEscritorio=Lampara(\"sony\")\n",
    "print(LamEscritorio)"
   ]
  },
  {
   "cell_type": "markdown",
   "id": "80835e46-da56-4bba-8a9d-face004c9f0a",
   "metadata": {},
   "source": [
    "## Segundo paso \n",
    "1. me llamo mucho la atencion la declaracion de am.p_falla_de_fabrica\n",
    "2. hay algo raro que declaran con Types y SimpleNamespace()\n",
    "3. esto se llama:\n",
    "    SimpleNamespace es una subclase muy simple de object.\n",
    "    Permite acceder a sus atributos como propiedades de un objeto.\n",
    "    Se suele usar como sustituto rápido de:\n",
    "    í. una clase sin métodos,\n",
    "    ii. o una estructura de datos tipo “registro” (record o struct).\n",
    "4. La definición oficial dice que SimpleNamespace es una clase ligera\n",
    "    que te da un objeto con atributos dinámicos, útil como sustituto de \n",
    "    clases sin métodos o de estructuras simples de datos.\n",
    "5. En conclusión: sí, puedes declarar cualquier cosa dentro de un SimpleNamespace\n",
    "    (números, strings, listas, objetos, funciones, otros namespaces, etc.).\n",
    "6. se le puede ir agregando cosas a diestra y siniestra como quieras. \n",
    "7. lo trata como un diccionario. con esto me refiero a que su declaracion es asi:\n",
    "    sim=types.SimpleNamespace() #creamos sim de tipo SimpleNamespace\n",
    "    sim.clave=valor #donde clave y valor es igual que un diccionario.\n",
    "8. se puede declarar de forma vacia como sim en el codigo de abajo\n",
    "9. se puede declarar ya relleno como ns en el codigo de abajo\n",
    "10. si se imprime directamente el nombre del SimpleNamespace, en la consola aparecera la clave y valor como en el ejemplo 2, y podemos llamar el valor con el nombre de la variable.clave \n",
    "11. se puede agregar valores cuando quieras"
   ]
  },
  {
   "cell_type": "code",
   "execution_count": 35,
   "id": "805af256-eb1c-407e-953c-c4ecd13c87a9",
   "metadata": {},
   "outputs": [
    {
     "name": "stdout",
     "output_type": "stream",
     "text": [
      "ejemplo 1\n",
      "declaracion de SimpleNamespace() vacio, luego se rellena: \n",
      "\n",
      "Hola SimpleNamespace 10\n",
      "\n",
      "ejemplo 2\n",
      "declaracion de simpleNamespace relleno desde el principio: \n",
      "\n",
      "namespace(x=10, y='hola')\n"
     ]
    }
   ],
   "source": [
    "import types \n",
    "\n",
    "print(\"ejemplo 1\")\n",
    "print(\"declaracion de SimpleNamespace() vacio, luego se rellena: \\n\")\n",
    "sim=types.SimpleNamespace() #ojo con las mayusculas y minusculas\n",
    "sim.HolaSimpleN_S=\"Hola SimpleNamespace\"\n",
    "sim.YoSoyOtroDato=10\n",
    "print(sim.HolaSimpleN_S, sim.YoSoyOtroDato)\n",
    "print(\"\\nejemplo 2\")\n",
    "print(\"declaracion de simpleNamespace relleno desde el principio: \\n\")\n",
    "ns = types.SimpleNamespace(x=10, y=\"hola\")\n",
    "print(ns)"
   ]
  },
  {
   "cell_type": "markdown",
   "id": "422c4ccd-dfd0-49fb-aac5-313363f856bc",
   "metadata": {},
   "source": [
    "### Paso 3\n",
    "1. ocupamos random\n",
    "2. generamos el SimpleNamespace()\n",
    "3. implementamos una semilla \n",
    "    random genera numeros pseudoaleatorios\n",
    "    si no se define una semilla=seed la funcion toma los valores de la hora del sistema\n",
    "    se declara una semilla en un valor determinado para que al generar los valores aleatorios\n",
    "    estos comiencen siempre desde la misma posicion y sea determinista, por lo que repetira los \n",
    "    mismos valores siempre, sirve para hacer pruebas de laboratorio\n",
    "    \n",
    "    \"La semilla (seed) fija el punto de inicio del generador aleatorio.\n",
    "    Con la misma semilla → siempre obtienes la misma secuencia de números.\n",
    "    Sin semilla → cada ejecución empieza en un punto distinto y obtienes secuencias \n",
    "    diferentes.\"\n",
    "4. el asterisco en la formula de randint dice es un **DESEMPAQUETADOR** toma los valores dentro\n",
    "    de la am.p_falla_de_fabrica=(1,10) y pasa sus elementos, es como hacer esto\n",
    "    probabilidad_quemarse=random.randint(1, 10)"
   ]
  },
  {
   "cell_type": "code",
   "execution_count": 41,
   "id": "ae6a36e3-725a-4246-8b9d-cf47a4d73557",
   "metadata": {},
   "outputs": [
    {
     "name": "stdout",
     "output_type": "stream",
     "text": [
      "2\n"
     ]
    }
   ],
   "source": [
    "import random, types\n",
    "\n",
    "am=types.SimpleNamespace()\n",
    "am.p_falla_de_fabrica=(1,10) #del 1% al 10%\n",
    "random.seed(42)\n",
    "\n",
    "probabilidad_quemarse=random.randint(*am.p_falla_de_fabrica)\n",
    "print(probabilidad_quemarse)"
   ]
  },
  {
   "cell_type": "markdown",
   "id": "178742c5-1087-4172-9a1e-ff5482bbdbd7",
   "metadata": {},
   "source": [
    "---\n",
    "### Paso 4\n",
    "1. seguiremos con nuestra creacion de clase\n",
    "2. Crearemos primero la clase ampolleta\n",
    "3. crearemos uns intancia **Ampolleta** dentro de la clase **Lampara**\n",
    "4. la clase ampolleta contiene la creacion de los estados, \n",
    "    encendida, apagada, y una probabilidad de quemarse, que utilizaremos lo aprendido en el \n",
    "    paso 3\n",
    "---\n",
    "nota:\n",
    "    self.ampolleta_de_reemplazo=[Ampolleta()for _ in range(3)]\n",
    "    esta es la forma de crear una lista de ampolletas, el guion bajo en el for \n",
    "    indica que, es igual a i, pero cuando usamos guion bajo en el for, quiere decir \n",
    "    que no nos importa el valor, solo quiero repetir la iteracion en el for N veces. \n",
    "    es como decir, haz esto N veces, no me importa el numero de vueltas, el numero iterado\n",
    "    la i\n",
    "---"
   ]
  },
  {
   "cell_type": "code",
   "execution_count": null,
   "id": "1b642aa2-5a56-423a-bd17-41299d623a58",
   "metadata": {},
   "outputs": [],
   "source": [
    "class Lampara():\n",
    "    def __init__(self, marca):\n",
    "        self.marca=marca\n",
    "        self.ampolleta=Ampolleta() #creamos la instancia de ampolleta\n",
    "        self.ampolleta_de_reemplazo=[Ampolleta()for _ in range(3)]#creamos otras 3 ampolletas\n",
    "        #para tenerlas de reemplazo\n",
    "\n",
    "class Ampolleta():\n",
    "    def __init__(self):\n",
    "        self.encendida=False\n",
    "        self.apagada=False\n",
    "        self.probabilidad_quemarse=random.randint(*am.p_falla_de_fabrica)/100\n",
    "    \n",
    "        "
   ]
  }
 ],
 "metadata": {
  "kernelspec": {
   "display_name": "Python 3 (ipykernel)",
   "language": "python",
   "name": "python3"
  },
  "language_info": {
   "codemirror_mode": {
    "name": "ipython",
    "version": 3
   },
   "file_extension": ".py",
   "mimetype": "text/x-python",
   "name": "python",
   "nbconvert_exporter": "python",
   "pygments_lexer": "ipython3",
   "version": "3.11.9"
  }
 },
 "nbformat": 4,
 "nbformat_minor": 5
}
