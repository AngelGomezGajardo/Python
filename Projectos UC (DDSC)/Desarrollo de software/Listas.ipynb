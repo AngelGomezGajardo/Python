{
 "cells": [
  {
   "cell_type": "code",
   "execution_count": 1,
   "id": "53c24b2b-bae5-4ca3-9301-dadc6d0cffd2",
   "metadata": {},
   "outputs": [
    {
     "name": "stdout",
     "output_type": "stream",
     "text": [
      "0\n",
      "1\n",
      "2\n",
      "3\n",
      "4\n",
      "5\n",
      "6\n",
      "7\n",
      "8\n",
      "9\n"
     ]
    }
   ],
   "source": [
    "lista=[0,1,2,3,4,5,6,7,8,9]\n",
    "for itera in lista:\n",
    "    print(itera)"
   ]
  },
  {
   "cell_type": "code",
   "execution_count": 14,
   "id": "0f74d33f-a622-41a6-8489-4836e8be8670",
   "metadata": {},
   "outputs": [
    {
     "name": "stdout",
     "output_type": "stream",
     "text": [
      "0\n",
      "1\n",
      "2\n",
      "3\n",
      "[4, 5]\n",
      "6\n",
      "7\n",
      "8\n",
      "9\n"
     ]
    }
   ],
   "source": [
    "listaMezclada=[0,1,2,3,[4,5],6,7,8,9]\n",
    "for itera in listaMezclada:\n",
    "    print(itera)\n",
    "\n",
    "#lo anterior se puede hacer pero tiene pocas manipulacion, por ejemplo no puedo acceder directamente a algun dato o hacer rangos\n",
    "#si solo queremos recorrer la lista SIRVE, "
   ]
  },
  {
   "cell_type": "markdown",
   "id": "0fa92273-13ce-4996-ac05-29d7f1dd2fcf",
   "metadata": {},
   "source": [
    "mi duda con lo de arriba es, si tengo una lista dentro de la lista y la quiero imprimir de todas maneras como lo hago\n",
    "existe una funcion dentro de python que valida que tipo de datos esta leyendo, se llama \n",
    "isinstance(variable, tipo_de_datos_a_comprobar)=true si es igual al dato que queremos comprobar, false si no\n",
    "por lo tanto es lo podemos tomar para determinar si en las iteraciones se encontro con estructuras de datos: \n",
    "\n",
    "ejemplo:"
   ]
  },
  {
   "cell_type": "code",
   "execution_count": 9,
   "id": "354f5464-768f-4223-a236-ec35cae59010",
   "metadata": {},
   "outputs": [
    {
     "name": "stdout",
     "output_type": "stream",
     "text": [
      "0\n",
      "1\n",
      "2\n",
      "3\n",
      "hola\n",
      "soy\n",
      "una\n",
      "lista\n",
      "interna\n",
      "['hola', 'soy', 'una', 'lista', 'interna']\n",
      "6\n",
      "yo soy una tupla y me declaro con ()\n",
      "7\n",
      "8\n",
      "{'me declaro:con{} ', 'yo:un diccionario'}\n",
      "9\n"
     ]
    }
   ],
   "source": [
    "listaMezclada = [0, 1, 2, 3, [\"hola\", \"soy\", \"una\", \"lista\",\"interna\"], 6, (\"yo soy una tupla y me declaro con ()\"),7, 8,{\"yo:un diccionario\",\"me declaro:con{} \"}, 9]\n",
    "\n",
    "for itera in listaMezclada:\n",
    "    if isinstance(itera, list):  # Si es una lista interna\n",
    "        for subitem in itera:\n",
    "            print(subitem)\n",
    "    if isinstance(itera, tuple):  # Si es una lista interna\n",
    "        for subitem in itera:\n",
    "            print(subitem)\n",
    "    if isinstance(itera, dict):  # Si es una lista interna\n",
    "        for subitem in itera:\n",
    "            print(subitem)\n",
    "    else:\n",
    "        print(itera)"
   ]
  },
  {
   "cell_type": "markdown",
   "id": "58799c68-fb61-4946-aad1-123b3c470ca5",
   "metadata": {},
   "source": [
    "ahora vemos como obtener datos de las listas con SLICING\n"
   ]
  },
  {
   "cell_type": "code",
   "execution_count": 11,
   "id": "7467ca06-7936-41a5-91cd-022e71bba4eb",
   "metadata": {},
   "outputs": [
    {
     "name": "stdout",
     "output_type": "stream",
     "text": [
      "[4.15, 'Abril', 3, 5]\n",
      "['Chile', 8, 4.15]\n",
      "esto [5, '2020', 'MOOC']\n",
      "[8, 'Abril', 5]\n"
     ]
    }
   ],
   "source": [
    "mezcla = ['Chile', 8, 4.15, 'Abril', 3, 5, '2020', 'MOOC'] \n",
    "print(mezcla[2:6]) #NO INCLUYE EL ULTIMO NUMERO\n",
    "\n",
    "print(mezcla[:3]) #desde el inicio hasta el 3 sin considerar el 3 0 1 y 2 \n",
    "\n",
    "print(\"esto\",mezcla[5:]) #desde el 5to hasta el ultimo, considerando el 5to \n",
    "\n",
    "print(mezcla[1:6:2])#desde el primero hasta el 6, saltando de 2 en 2, sin considerar el 6to\n"
   ]
  },
  {
   "cell_type": "code",
   "execution_count": 16,
   "id": "8d3e8641-34b3-4b5a-a30b-4880cdb7e350",
   "metadata": {},
   "outputs": [
    {
     "name": "stdout",
     "output_type": "stream",
     "text": [
      "Chile\n",
      "8\n",
      "4.15\n",
      "Abril\n",
      "3\n",
      "5\n",
      "2020\n",
      "MOOC\n"
     ]
    }
   ],
   "source": [
    "mezcla = ['Chile', 8, 4.15, 'Abril', 3, 5, '2020', 'MOOC']\n",
    "#podemos recorrer la lista como sigue\n",
    "\n",
    "for i in range(len(mezcla)):\n",
    "    print(mezcla[i]) #recorrer que la variable ITERADORA, debe ir entre corchetes cuadrados [variable iteradora]"
   ]
  },
  {
   "cell_type": "markdown",
   "id": "1ffdf7d6-a153-41ba-9a64-675135a7c878",
   "metadata": {},
   "source": [
    "###################################################################################\n",
    "\n",
    "AGREGANDO Y ELIMINANDO ELEMENTOS\n",
    "\n",
    "###################################################################################"
   ]
  },
  {
   "cell_type": "code",
   "execution_count": 25,
   "id": "c0203018-d307-4391-a549-7ca00d7d0e8f",
   "metadata": {},
   "outputs": [
    {
     "name": "stdout",
     "output_type": "stream",
     "text": [
      "antes de agrega, \"tal vez\", a la lista:\n",
      " ['si', 'no']\n",
      "despues de agregar \"tal vez\":\n",
      " ['si', 'no', 'tal vez']\n"
     ]
    }
   ],
   "source": [
    "print(\"el metodo append agrega un nuevo valor al final de la lista\")\n",
    "opciones=[\"si\",\"no\"]\n",
    "print(\"antes de agrega, \\\"tal vez\\\", a la lista:\\n\",opciones)\n",
    "opciones.append(\"tal vez\")\n",
    "\n",
    "print(\"despues de agregar \\\"tal vez\\\":\\n\",opciones)"
   ]
  },
  {
   "cell_type": "code",
   "execution_count": 32,
   "id": "f3727a31-79ad-4662-8e00-37022d0cf327",
   "metadata": {},
   "outputs": [
    {
     "name": "stdout",
     "output_type": "stream",
     "text": [
      "el metodo POP agrega un nuevo valor al final de la lista\n",
      "antes de eliminar el ultimo elemento de la lista:\n",
      " ['a mi', 'no me eliminaron', 'pero a mi si']\n",
      "despues de eliminar el ultimo elemento de la lista \n",
      " ['a mi', 'no me eliminaron'] \n",
      " el objeto eliminado fue: pero a mi si\n"
     ]
    }
   ],
   "source": [
    "print(\"el metodo POP agrega un nuevo valor al final de la lista\")\n",
    "opciones=[\"a mi\",\"no me eliminaron\", \"pero a mi si\"]\n",
    "print(\"antes de eliminar el ultimo elemento de la lista:\\n\",opciones)\n",
    "\n",
    "elimina=opciones.pop()\n",
    "print(\"despues de eliminar el ultimo elemento de la lista \\n\",opciones,\"\\n el objeto eliminado fue:\",elimina)"
   ]
  },
  {
   "cell_type": "markdown",
   "id": "e82e55b9-601c-417a-8d81-7aac958358eb",
   "metadata": {},
   "source": [
    "#################################################\n",
    "\n",
    "el medoto INSER recibe una posicion y el valor \n",
    "\n",
    "#################################################"
   ]
  },
  {
   "cell_type": "code",
   "execution_count": 33,
   "id": "011f8c67-3d37-47d8-bafa-f0ccfacaf827",
   "metadata": {},
   "outputs": [
    {
     "name": "stdout",
     "output_type": "stream",
     "text": [
      "['si', 'no', 'quizas']\n",
      "['si', 'no', 'agregado a la posicion 2', 'quizas']\n"
     ]
    }
   ],
   "source": [
    "opciones=[\"si\", \"no\",\"quizas\"]\n",
    "print(opciones)\n",
    "opciones.insert(2,\"agregado a la posicion 2\")\n",
    "print(opciones)"
   ]
  },
  {
   "cell_type": "markdown",
   "id": "3255eb1f-00cc-484d-868b-c7a4fb072074",
   "metadata": {},
   "source": [
    "###############################\n",
    "\n",
    "el metodo POP, tambien puede recibir una posicion a eliminar\n",
    "\n",
    "##############################"
   ]
  },
  {
   "cell_type": "code",
   "execution_count": 36,
   "id": "f07ecb34-ad4c-4511-998f-b84b6027a1cb",
   "metadata": {},
   "outputs": [
    {
     "name": "stdout",
     "output_type": "stream",
     "text": [
      "['si', 'no', 'quizas']\n",
      "el valor de la posicion 0 fue borrada ['no', 'quizas']\n",
      "este valor fue borrado--> si\n"
     ]
    }
   ],
   "source": [
    "opciones=[\"si\", \"no\",\"quizas\"]\n",
    "print(opciones)\n",
    "valor_borrado=opciones.pop(0)\n",
    "print(\"el valor de la posicion 0 fue borrada\",opciones)\n",
    "print(\"este valor fue borrado-->\",valor_borrado)"
   ]
  },
  {
   "cell_type": "markdown",
   "id": "8cf721ca-8488-499b-ac04-c5bf0f4a3cc8",
   "metadata": {},
   "source": [
    "##########################################################\n",
    "\n",
    "podemos buscar el indice de algun elemento\n",
    "para ello utilizamos \n",
    "\n",
    "INDEX\n",
    "##########################################################"
   ]
  },
  {
   "cell_type": "code",
   "execution_count": 38,
   "id": "1934c967-2425-4317-903b-f87446f781e0",
   "metadata": {},
   "outputs": [
    {
     "name": "stdout",
     "output_type": "stream",
     "text": [
      "el indice de --> quizas es --> 2\n"
     ]
    }
   ],
   "source": [
    "opciones=[\"si\", \"no\",\"quizas\",\"no sé\"]\n",
    "buscar=\"quizas\"\n",
    "indiceElemento=opciones.index(\"quizas\")\n",
    "print(\"el indice de -->\",buscar,\"es -->\",indiceElemento)\n"
   ]
  },
  {
   "cell_type": "markdown",
   "id": "f0b50f12-7ef6-4cf0-a2a2-e6c0cd90eadd",
   "metadata": {},
   "source": [
    "############################################################################\n",
    "\n",
    "    el metodo REMOVE recibe un elemento y lo elimina de la lista\n",
    "    Si el elemento se encuentra repetido en la lista, elimina solamente la primera ocurrencia. \n",
    "    Al igual que index, este método supone que el elemento ya existe en la lista, de lo contrario \n",
    "    se produce un error. La ejecución de remove modifica la lista, y no entrega un valor de retorno.\n",
    "    \n",
    "############################################################################"
   ]
  },
  {
   "cell_type": "code",
   "execution_count": 39,
   "id": "0d93dba8-71e1-44c8-92d2-4dfb46ea1248",
   "metadata": {},
   "outputs": [
    {
     "name": "stdout",
     "output_type": "stream",
     "text": [
      "['Mañana', 'Hoy']\n"
     ]
    }
   ],
   "source": [
    "cuando = ['Mañana', 'Pasado', 'Hoy']\n",
    "cuando.remove('Pasado')\n",
    "print(cuando)\n"
   ]
  },
  {
   "cell_type": "markdown",
   "id": "2473ca5d-2527-4a54-b6bc-bc8232964274",
   "metadata": {},
   "source": [
    "############################################################################\n",
    "\n",
    "Ordenar listas\n",
    "\n",
    "Una acción bastante frecuente en una lista es ordenar sus elementos de acuerdo con algún criterio. \n",
    "Python posee la función sorted, la cual recibe una lista y entrega una copia ordenada de la lista. \n",
    "Como es una copia, la lista original se mantiene sin modificaciones.\n",
    "\n",
    "############################################################################"
   ]
  },
  {
   "cell_type": "code",
   "execution_count": 42,
   "id": "0f8b410e-fae3-4444-9211-8191f5e3f379",
   "metadata": {},
   "outputs": [
    {
     "name": "stdout",
     "output_type": "stream",
     "text": [
      "Lista Original [67, 56, 48, 21, 60, 38, 89, 20, 28, 79]\n",
      "Lista ordenada [20, 21, 28, 38, 48, 56, 60, 67, 79, 89]\n"
     ]
    }
   ],
   "source": [
    "puntos = [67, 56, 48, 21, 60, 38, 89, 20, 28, 79]\n",
    "ordenada=sorted(puntos) #sorted ordenara puntos y los guarda en ordenada\n",
    "print(f\"Lista Original {puntos}\")\n",
    "print(f\"Lista ordenada {ordenada}\")"
   ]
  },
  {
   "cell_type": "markdown",
   "id": "49ee3c31-d0ae-4e28-a58f-b5362c8150fb",
   "metadata": {},
   "source": [
    "################################################################################\n",
    "\n",
    "si no queremos crear otra lista podemos ocupar SORT\n",
    "\n",
    "Por otro lado, las listas poseen un método sort, el cual se puede aplicar a una lista y modifica la lista de manera\n",
    "de ordenar sus elementos de menor a mayor. Este método NO RETORNA una copia de la lista, sino que modifica los elementos \n",
    "que están dentro de ella para que queden ordenados de menor a mayor.\n",
    "\n",
    "################################################################################\n"
   ]
  },
  {
   "cell_type": "code",
   "execution_count": 43,
   "id": "f6df39d4-6448-468a-9bb6-86da9db63c14",
   "metadata": {},
   "outputs": [
    {
     "name": "stdout",
     "output_type": "stream",
     "text": [
      "puntos: [20, 21, 28, 38, 48, 56, 60, 67, 79, 89]\n"
     ]
    }
   ],
   "source": [
    "puntos = [67, 56, 48, 21, 60, 38, 89, 20, 28, 79]\n",
    "puntos.sort()\n",
    "print(f\"puntos: {puntos}\")"
   ]
  },
  {
   "cell_type": "markdown",
   "id": "99b76a8a-dae1-486e-b32f-c0ac4b5f8723",
   "metadata": {},
   "source": [
    "################################################################################\n",
    "\n",
    "Si queremos que ordene la lista de manera inversa, podemos entregar un parámetro \n",
    "booleano de nombre reverse y darle el valor True.\n",
    "\n",
    "################################################################################"
   ]
  },
  {
   "cell_type": "code",
   "execution_count": 44,
   "id": "4cf53486-3364-48f6-be43-dd2e0e479ccd",
   "metadata": {},
   "outputs": [
    {
     "name": "stdout",
     "output_type": "stream",
     "text": [
      "ordenados al reverso: [89, 79, 67, 60, 56, 48, 38, 28, 21, 20]\n"
     ]
    }
   ],
   "source": [
    "puntos = [67, 56, 48, 21, 60, 38, 89, 20, 28, 79]\n",
    "puntos.sort(reverse=True)\n",
    "print(f\"ordenados al reverso: {puntos}\")"
   ]
  },
  {
   "cell_type": "code",
   "execution_count": null,
   "id": "fe16545e-4268-4998-b1bd-8ba9174e8c9f",
   "metadata": {},
   "outputs": [],
   "source": []
  }
 ],
 "metadata": {
  "kernelspec": {
   "display_name": "Python 3 (ipykernel)",
   "language": "python",
   "name": "python3"
  },
  "language_info": {
   "codemirror_mode": {
    "name": "ipython",
    "version": 3
   },
   "file_extension": ".py",
   "mimetype": "text/x-python",
   "name": "python",
   "nbconvert_exporter": "python",
   "pygments_lexer": "ipython3",
   "version": "3.11.9"
  }
 },
 "nbformat": 4,
 "nbformat_minor": 5
}
