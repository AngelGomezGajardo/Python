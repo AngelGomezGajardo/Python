{
 "cells": [
  {
   "cell_type": "markdown",
   "id": "ab33f499-bb85-43b0-8716-134256cea387",
   "metadata": {},
   "source": [
    "¿Cuál opción define correctamente un ciclo for que imprime los números \n",
    "pares entre 2 y 8 (incluyendo ambos) en orden ascendente?"
   ]
  },
  {
   "cell_type": "code",
   "execution_count": 4,
   "id": "e8312888-b70f-4c51-8b58-4b49383e6529",
   "metadata": {},
   "outputs": [
    {
     "name": "stdout",
     "output_type": "stream",
     "text": [
      "2\n",
      "4\n",
      "6\n",
      "8\n"
     ]
    }
   ],
   "source": [
    "inicio=2\n",
    "fin=9\n",
    "saltos=2\n",
    "\n",
    "for inicio in range(2, 10, 2):\n",
    "    print(inicio)"
   ]
  },
  {
   "cell_type": "markdown",
   "id": "1abed69e-bb6f-4531-bee5-9af143a730bc",
   "metadata": {},
   "source": [
    "Al ejecutar las siguientes operaciones, ¿cuál será el resultado obtenido?\"\n",
    "\n",
    "a = \"Desarrollo\" + \"Software\"\n",
    "\n",
    "b = \"Python\" * 3\n",
    "\n",
    "print(a)\n",
    "\n",
    "print(b)"
   ]
  },
  {
   "cell_type": "code",
   "execution_count": 5,
   "id": "ebaf444e-2b26-480f-8163-14093a5b9c4b",
   "metadata": {},
   "outputs": [
    {
     "name": "stdout",
     "output_type": "stream",
     "text": [
      "DesarrolloSoftware\n",
      "PythonPythonPython\n"
     ]
    }
   ],
   "source": [
    "a = \"Desarrollo\" + \"Software\"\n",
    "\n",
    "b = \"Python\" * 3\n",
    "\n",
    "print(a)\n",
    "\n",
    "print(b)"
   ]
  },
  {
   "cell_type": "markdown",
   "id": "91274d65-c115-4223-84f7-d86012714613",
   "metadata": {},
   "source": [
    "¿Cuál es el resultado de ejecutar la siguiente operación?\n",
    "\n",
    "a = \"10\"\n",
    "if a > 15:\n",
    "    print(\"Mayor que 15.\")\n",
    "elif a > 10:\n",
    "    print(\"Mayor que 10.\")\n",
    "else:\n",
    "    print(\"Menor o igual que 10.\")"
   ]
  },
  {
   "cell_type": "code",
   "execution_count": 8,
   "id": "41d742e6-ee90-4031-9655-7a5d01c2383c",
   "metadata": {},
   "outputs": [
    {
     "ename": "TypeError",
     "evalue": "'>' not supported between instances of 'str' and 'int'",
     "output_type": "error",
     "traceback": [
      "\u001b[1;31m---------------------------------------------------------------------------\u001b[0m",
      "\u001b[1;31mTypeError\u001b[0m                                 Traceback (most recent call last)",
      "Cell \u001b[1;32mIn[8], line 2\u001b[0m\n\u001b[0;32m      1\u001b[0m a \u001b[38;5;241m=\u001b[39m \u001b[38;5;124m\"\u001b[39m\u001b[38;5;124m10\u001b[39m\u001b[38;5;124m\"\u001b[39m\n\u001b[1;32m----> 2\u001b[0m \u001b[38;5;28;01mif\u001b[39;00m \u001b[43ma\u001b[49m\u001b[43m \u001b[49m\u001b[38;5;241;43m>\u001b[39;49m\u001b[43m \u001b[49m\u001b[38;5;241;43m15\u001b[39;49m:\n\u001b[0;32m      3\u001b[0m     \u001b[38;5;28mprint\u001b[39m(\u001b[38;5;124m\"\u001b[39m\u001b[38;5;124mMayor que 15.\u001b[39m\u001b[38;5;124m\"\u001b[39m)\n\u001b[0;32m      4\u001b[0m \u001b[38;5;28;01melif\u001b[39;00m a \u001b[38;5;241m>\u001b[39m \u001b[38;5;241m10\u001b[39m:\n",
      "\u001b[1;31mTypeError\u001b[0m: '>' not supported between instances of 'str' and 'int'"
     ]
    }
   ],
   "source": [
    "a = \"10\"\n",
    "if a > 15:\n",
    "    print(\"Mayor que 15.\")\n",
    "elif a > 10:\n",
    "    print(\"Mayor que 10.\")\n",
    "else:\n",
    "    print(\"Menor o igual que 10.\")"
   ]
  },
  {
   "cell_type": "code",
   "execution_count": 10,
   "id": "c0fe8f33-0d3d-4a7f-90b6-18610417fd69",
   "metadata": {},
   "outputs": [
    {
     "name": "stdout",
     "output_type": "stream",
     "text": [
      "1\n",
      "2\n"
     ]
    }
   ],
   "source": [
    "a = 1\n",
    "while a < 3:\n",
    "    print(a)\n",
    "    a += 1"
   ]
  },
  {
   "cell_type": "code",
   "execution_count": 12,
   "id": "9c8f9414-103b-4cc2-a47a-a5293aa8e8bd",
   "metadata": {},
   "outputs": [],
   "source": [
    "a = 3\n",
    "while a < 3:\n",
    "    print(a)"
   ]
  },
  {
   "cell_type": "code",
   "execution_count": 13,
   "id": "f4007c1c-ae24-4e88-9acd-a3e1dea08087",
   "metadata": {},
   "outputs": [
    {
     "name": "stdout",
     "output_type": "stream",
     "text": [
      "1\n"
     ]
    }
   ],
   "source": [
    "a = 1\n",
    "while a < 3:\n",
    "    print(a)\n",
    "    a += 2"
   ]
  },
  {
   "cell_type": "code",
   "execution_count": 14,
   "id": "ef97d03c-8e90-4edc-bbab-3c42509650ae",
   "metadata": {},
   "outputs": [
    {
     "name": "stdout",
     "output_type": "stream",
     "text": [
      "10\n"
     ]
    }
   ],
   "source": [
    "a=\"Programar!\"\n",
    "\n",
    "print(len(a))\n"
   ]
  },
  {
   "cell_type": "code",
   "execution_count": 15,
   "id": "06e782e2-29b1-40f6-ae87-66003badab08",
   "metadata": {},
   "outputs": [
    {
     "name": "stdout",
     "output_type": "stream",
     "text": [
      "-2.0\n"
     ]
    }
   ],
   "source": [
    "a=20.8\n",
    "b=2\n",
    "resultado = (a / b) * (b % a) // (b-a)\n",
    "print(resultado)"
   ]
  },
  {
   "cell_type": "code",
   "execution_count": 18,
   "id": "6a9ee0a6-818c-443b-aa28-7eff1d88df63",
   "metadata": {},
   "outputs": [
    {
     "name": "stdout",
     "output_type": "stream",
     "text": [
      "6\n"
     ]
    }
   ],
   "source": [
    "def multiplicar(a, b):\n",
    "    mult = a * b\n",
    "multiplicacion = multiplicar(2, 3)\n",
    "\n",
    "print(multiplicacion)"
   ]
  },
  {
   "cell_type": "code",
   "execution_count": 22,
   "id": "ff21749f-3359-4dd1-88c7-e0414cf37a14",
   "metadata": {},
   "outputs": [
    {
     "ename": "NameError",
     "evalue": "name 'variab' is not defined",
     "output_type": "error",
     "traceback": [
      "\u001b[1;31m---------------------------------------------------------------------------\u001b[0m",
      "\u001b[1;31mNameError\u001b[0m                                 Traceback (most recent call last)",
      "Cell \u001b[1;32mIn[22], line 1\u001b[0m\n\u001b[1;32m----> 1\u001b[0m \u001b[43mvariab\u001b[49m\u001b[38;5;66;03m#e = “Python”\u001b[39;00m\n",
      "\u001b[1;31mNameError\u001b[0m: name 'variab' is not defined"
     ]
    }
   ],
   "source": [
    "variab#e = “Python”\n"
   ]
  },
  {
   "cell_type": "code",
   "execution_count": 26,
   "id": "c17aa9b7-c751-47b0-93da-376ade43d2fb",
   "metadata": {},
   "outputs": [],
   "source": [
    "a = \"14\"\n",
    "b = \"1\"\n",
    "if a < b:\n",
    "    print(\"A es menor que B\")"
   ]
  },
  {
   "cell_type": "code",
   "execution_count": null,
   "id": "59be9925-2cde-4d2a-93de-ff44e6629326",
   "metadata": {},
   "outputs": [],
   "source": []
  }
 ],
 "metadata": {
  "kernelspec": {
   "display_name": "Python 3 (ipykernel)",
   "language": "python",
   "name": "python3"
  },
  "language_info": {
   "codemirror_mode": {
    "name": "ipython",
    "version": 3
   },
   "file_extension": ".py",
   "mimetype": "text/x-python",
   "name": "python",
   "nbconvert_exporter": "python",
   "pygments_lexer": "ipython3",
   "version": "3.11.9"
  }
 },
 "nbformat": 4,
 "nbformat_minor": 5
}
