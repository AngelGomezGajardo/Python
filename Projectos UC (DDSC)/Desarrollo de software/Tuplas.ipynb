{
 "cells": [
  {
   "cell_type": "markdown",
   "id": "f7c9fee3-024c-4d19-8cd3-2bc6688f7ca5",
   "metadata": {},
   "source": [
    "Una tupla, antes que todo, es una estructura de datos. Una colección de datos que permite agruparlos y provee operaciones para accederlos. \n",
    "\n",
    "Una tupla permite: \n",
    "agrupar datos de distintos tipos, de manera ordenada, esto significa que cada elemento tiene una posicion determinada dentro de la estructura\n",
    "Acceder de manera eficiente a cada elemento a partir de su posicion\n",
    "\n",
    "las tuplas se declaran con parentesis normales tupla=tuple()\n",
    "\n",
    "my_tupla()"
   ]
  },
  {
   "cell_type": "code",
   "execution_count": 3,
   "id": "35d3bebc-2146-4a65-bdf8-7903471d085b",
   "metadata": {},
   "outputs": [
    {
     "name": "stdout",
     "output_type": "stream",
     "text": [
      "()\n",
      "<class 'tuple'>\n"
     ]
    }
   ],
   "source": [
    "my_tupla=tuple()\n",
    "print(my_tupla)\n",
    "print(type(my_tupla))"
   ]
  },
  {
   "cell_type": "markdown",
   "id": "dd291df2-ed35-46b0-8863-5daf63dc9212",
   "metadata": {},
   "source": [
    "###############################################################################################################################\n",
    "\n",
    "podemos inicializarla DIRECTAMENTE con VALORES\n",
    "\n",
    "###############################################################################################################################"
   ]
  },
  {
   "cell_type": "code",
   "execution_count": 4,
   "id": "46ef13bf-8f6a-4a39-839e-011a1b1f161c",
   "metadata": {},
   "outputs": [
    {
     "name": "stdout",
     "output_type": "stream",
     "text": [
      "('esto', 'es una', 'tupla')\n"
     ]
    }
   ],
   "source": [
    "my_tupla=(\"esto\",\"es una\",\"tupla\")\n",
    "print(my_tupla)"
   ]
  },
  {
   "cell_type": "markdown",
   "id": "dd73356f-2098-408b-9af6-ac45cd21d40a",
   "metadata": {},
   "source": [
    "Una tupla llamada mezcla, que contiene elementos de tipo str, int y float."
   ]
  },
  {
   "cell_type": "code",
   "execution_count": 7,
   "id": "86f2a0cc-7bc8-440d-8715-dcf125b82b3d",
   "metadata": {},
   "outputs": [
    {
     "name": "stdout",
     "output_type": "stream",
     "text": [
      "('Chile', 8, 4.15, 'Abril')\n"
     ]
    }
   ],
   "source": [
    "mezcla = ('Chile', 8, 4.15, 'Abril')\n",
    "print(mezcla)"
   ]
  },
  {
   "cell_type": "markdown",
   "id": "dfba045d-6375-474c-bf48-4402d5a26692",
   "metadata": {},
   "source": [
    "Tuplas que incluyan listas, como la tupla sublista, o que incluya tuplas, como la tupla subtupla"
   ]
  },
  {
   "cell_type": "code",
   "execution_count": 9,
   "id": "713744ed-57fc-46c6-8019-49adad548629",
   "metadata": {},
   "outputs": [
    {
     "name": "stdout",
     "output_type": "stream",
     "text": [
      "esta tupla contiene listas internas: (15, ['Rancagua', 9], 'Febrero')\n",
      "esta suple contiene subtuplas internas: (15, ('Rancagua', 9), 'Febrero')\n"
     ]
    }
   ],
   "source": [
    "sublista = (15, ['Rancagua', 9], 'Febrero')\n",
    "subtupla = (15, ('Rancagua', 9), 'Febrero')\n",
    "print(f\"esta tupla contiene listas internas: {sublista}\")\n",
    "print(f\"esta suple contiene subtuplas internas: {subtupla}\")"
   ]
  },
  {
   "cell_type": "markdown",
   "id": "d7728e01-ea63-4039-b220-98981be83d89",
   "metadata": {},
   "source": [
    "#############################################################################################################################\n",
    "\n",
    "\n",
    "podemos juntar TUPLAS, por ejemplos 2 tuplas se juntan con el operador +\n",
    "\n",
    "#############################################################################################################################\n"
   ]
  },
  {
   "cell_type": "code",
   "execution_count": 11,
   "id": "25702b30-488f-436a-a0ee-865bdaaadf77",
   "metadata": {},
   "outputs": [
    {
     "name": "stdout",
     "output_type": "stream",
     "text": [
      "estas tuplas fueron unidas: ('Septiembre', 'Octubre', 'Noviembre', 'Diciembre', 'Enero', 'Febrero')\n"
     ]
    }
   ],
   "source": [
    "primavera = ('Septiembre', 'Octubre', 'Noviembre')\n",
    "verano = ('Diciembre', 'Enero', 'Febrero')\n",
    "calor = primavera + verano\n",
    "\n",
    "print(f\"estas tuplas fueron unidas: {calor}\")"
   ]
  },
  {
   "cell_type": "markdown",
   "id": "b714a042-276d-40e4-b9e3-6376488a5bec",
   "metadata": {},
   "source": [
    "De la misma manera podemos utilizar el operador * para concatenar una tupla consigo misma una cantidad entera \n",
    "de veces, y obtener una nueva tupla que repita sus contenidos."
   ]
  },
  {
   "cell_type": "code",
   "execution_count": 13,
   "id": "67ccecc9-04cc-47ae-b715-7fbd70866bd9",
   "metadata": {},
   "outputs": [
    {
     "name": "stdout",
     "output_type": "stream",
     "text": [
      "esta tupla fue multiplicada por 2: ('Diciembre', 'Enero', 'Febrero', 'Diciembre', 'Enero', 'Febrero')\n",
      " solo tenia los 3 primeros elementos\n"
     ]
    }
   ],
   "source": [
    "verano = ('Diciembre', 'Enero', 'Febrero')\n",
    "caluroso=verano*2\n",
    "print(f\"esta tupla fue multiplicada por 2: {caluroso}\\n solo tenia los 3 primeros elementos\")"
   ]
  },
  {
   "cell_type": "code",
   "execution_count": null,
   "id": "fafc544e-8218-4a35-83db-6c9c5637ac68",
   "metadata": {},
   "outputs": [],
   "source": []
  }
 ],
 "metadata": {
  "kernelspec": {
   "display_name": "Python 3 (ipykernel)",
   "language": "python",
   "name": "python3"
  },
  "language_info": {
   "codemirror_mode": {
    "name": "ipython",
    "version": 3
   },
   "file_extension": ".py",
   "mimetype": "text/x-python",
   "name": "python",
   "nbconvert_exporter": "python",
   "pygments_lexer": "ipython3",
   "version": "3.11.9"
  }
 },
 "nbformat": 4,
 "nbformat_minor": 5
}
