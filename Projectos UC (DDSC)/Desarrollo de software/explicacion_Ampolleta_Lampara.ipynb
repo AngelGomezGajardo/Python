{
 "cells": [
  {
   "cell_type": "markdown",
   "id": "f60181b5",
   "metadata": {},
   "source": [
    "# Ampolleta y Lámpara — explicación paso a paso (línea a línea)\n",
    "\n",
    "Este notebook explica tu código con ejemplos ejecutables y notas didácticas.\n"
   ]
  },
  {
   "cell_type": "markdown",
   "id": "b36505ac",
   "metadata": {},
   "source": [
    "## Dependencias y *stub* de ampolleta_nueva\n",
    "El código original importa `ampolleta_nueva`. Aquí creamos un stub para que funcione de forma autocontenida."
   ]
  },
  {
   "cell_type": "code",
   "execution_count": 2,
   "id": "348bc19a",
   "metadata": {},
   "outputs": [],
   "source": [
    "\n"
   ]
  },
  {
   "cell_type": "markdown",
   "id": "f51ebdee",
   "metadata": {},
   "source": [
    "## Código de las clases"
   ]
  },
  {
   "cell_type": "code",
   "execution_count": 23,
   "id": "f8ec2919",
   "metadata": {},
   "outputs": [],
   "source": [
    "import types, random\n",
    "\n",
    "am = types.SimpleNamespace()\n",
    "am.p_falla_de_fabrica = (1, 10)  # 1% a 10%\n",
    "random.seed(42)\n",
    "\n",
    "class Ampolleta:\n",
    "    def __init__(self):\n",
    "        self.encendida = False\n",
    "        self.quemada = False\n",
    "        self.probabilidad_quemarse = random.randint(*am.p_falla_de_fabrica)/100\n",
    "        #am viene de am ) types.SimpleNamespace()\n",
    "\n",
    "    def encender(self):\n",
    "        if not self.quemada:\n",
    "            if not self.encendida:\n",
    "                self.encendida = True\n",
    "                print(\"La ampolleta se ha encendido.\")\n",
    "            else:\n",
    "                print(\"La ampolleta ya está encendida.\")\n",
    "            self.actualizar_probabilidad_quemarse()\n",
    "        else:\n",
    "            print(\"La ampolleta está quemada y no se puede encender.\")\n",
    "\n",
    "    def apagar(self):\n",
    "        if not self.quemada:\n",
    "            if self.encendida:\n",
    "                self.encendida = False\n",
    "                print(\"La ampolleta se ha apagado.\")\n",
    "            else:\n",
    "                print(\"La ampolleta ya está apagada.\")\n",
    "            self.actualizar_probabilidad_quemarse()\n",
    "        else:\n",
    "            print(\"La ampolleta está quemada y no se puede apagar.\")\n",
    "\n",
    "    def actualizar_probabilidad_quemarse(self):\n",
    "        if not self.encendida:\n",
    "            self.probabilidad_quemarse += 0.05\n",
    "        if self.probabilidad_quemarse > 1:\n",
    "            self.quemar()\n",
    "\n",
    "    def quemar(self):\n",
    "        self.quemada = True\n",
    "        print(\"La ampolleta se ha quemado y necesita ser reemplazada.\")\n",
    "\n",
    "    def __str__(self):\n",
    "        estado = \"encendida\" if self.encendida else \"apagada\"\n",
    "        if self.quemada:\n",
    "            return \"Ampolleta (quemada)\"\n",
    "        return f\"Ampolleta ({estado})\"\n",
    "\n",
    "    def __repr__(self):\n",
    "        return f\"ampolleta ({self.encendida})\"\n",
    "\n",
    "class Lampara:\n",
    "    def __init__(self, marca):\n",
    "        self.marca = marca\n",
    "        self.ampolleta = Ampolleta()\n",
    "        self.ampolletas_de_reemplazo = [Ampolleta() for _ in range(3)]\n",
    "\n",
    "    def cambiar_ampolleta(self, ampolleta_nueva):\n",
    "        if self.ampolleta.quemada:\n",
    "            self.ampolleta = ampolleta_nueva\n",
    "        else:\n",
    "            print(\"No necesito reemplazarla, no está quemada\")\n",
    "\n",
    "    def encender_lampara(self):\n",
    "        if not self.ampolleta.quemada:\n",
    "            self.ampolleta.encender()\n",
    "        else:\n",
    "            if self.ampolletas_de_reemplazo:\n",
    "                nueva = self.ampolletas_de_reemplazo.pop()\n",
    "                self.cambiar_ampolleta(nueva)\n",
    "            else:\n",
    "                print(\"No me quedan ampolletas de reemplazo\")\n",
    "\n",
    "    def apagar_lampara(self):\n",
    "        self.ampolleta.apagar()\n",
    "\n",
    "    def checkear_ampolletas_reemplaso(self):\n",
    "        for a in self.ampolletas_de_reemplazo:\n",
    "            if a.quemada:\n",
    "                print(\"Tengo una ampolleta quemada en la caja de repuestos\")\n",
    "                return\n",
    "        print(\"Todas las ampolletas de repuesto están buenas\")\n",
    "\n",
    "    def __str__(self):\n",
    "        return f\"Lámpara con {self.ampolleta}\"\n"
   ]
  },
  {
   "cell_type": "markdown",
   "id": "efd73d49",
   "metadata": {},
   "source": [
    "## Demo básica"
   ]
  },
  {
   "cell_type": "code",
   "execution_count": 17,
   "id": "9f329129",
   "metadata": {},
   "outputs": [
    {
     "name": "stdout",
     "output_type": "stream",
     "text": [
      "La ampolleta se ha encendido.\n",
      "La ampolleta se ha apagado.\n",
      "Lámpara con Ampolleta (apagada)\n",
      "La ampolleta se ha encendido.\n",
      "La ampolleta se ha apagado.\n",
      "Lámpara con Ampolleta (apagada)\n",
      "La ampolleta se ha encendido.\n",
      "La ampolleta se ha apagado.\n",
      "Lámpara con Ampolleta (apagada)\n"
     ]
    }
   ],
   "source": [
    "lampara = Lampara(\"Lamparitas S.A.\")\n",
    "for i in range(3):\n",
    "    lampara.encender_lampara()\n",
    "    lampara.apagar_lampara()\n",
    "    print(lampara)\n"
   ]
  },
  {
   "cell_type": "markdown",
   "id": "c112a20a-ca1a-4219-96c9-3171d6adb544",
   "metadata": {},
   "source": [
    "## Para crear una lista de varias instancias de una clase podemos ocupar lo siguiente"
   ]
  },
  {
   "cell_type": "code",
   "execution_count": 24,
   "id": "60df6a67-3444-4547-bd46-390d74f5c644",
   "metadata": {},
   "outputs": [],
   "source": [
    "lista = []\n",
    "for i in range(3):\n",
    "    lista.append(Ampolleta())"
   ]
  },
  {
   "cell_type": "code",
   "execution_count": 25,
   "id": "5f691020-45a2-419f-bc66-70c043959403",
   "metadata": {},
   "outputs": [
    {
     "name": "stdout",
     "output_type": "stream",
     "text": [
      "[ampolleta (False), ampolleta (False), ampolleta (False)]\n"
     ]
    }
   ],
   "source": [
    "print(lista)"
   ]
  },
  {
   "cell_type": "code",
   "execution_count": 26,
   "id": "50b4fa0c-4564-4ffc-9f66-67274aee4480",
   "metadata": {},
   "outputs": [],
   "source": [
    "lam=Lampara(\"phillip\")"
   ]
  },
  {
   "cell_type": "code",
   "execution_count": 27,
   "id": "a68b9339-7ed4-47e1-88b6-106f9053a8ca",
   "metadata": {},
   "outputs": [
    {
     "name": "stdout",
     "output_type": "stream",
     "text": [
      "La ampolleta se ha encendido.\n"
     ]
    }
   ],
   "source": [
    "lam.encender_lampara()"
   ]
  },
  {
   "cell_type": "code",
   "execution_count": 28,
   "id": "889df558-294c-4948-8d84-295d1b305635",
   "metadata": {},
   "outputs": [
    {
     "name": "stdout",
     "output_type": "stream",
     "text": [
      "La ampolleta ya está encendida.\n"
     ]
    }
   ],
   "source": [
    "lam.encender_lampara()"
   ]
  },
  {
   "cell_type": "code",
   "execution_count": 29,
   "id": "5091a344-7720-489a-9113-ba7f9e042310",
   "metadata": {},
   "outputs": [
    {
     "name": "stdout",
     "output_type": "stream",
     "text": [
      "La ampolleta ya está encendida.\n"
     ]
    }
   ],
   "source": [
    "lam.encender_lampara()"
   ]
  },
  {
   "cell_type": "code",
   "execution_count": 31,
   "id": "0997e30a-59ec-44e2-a2f3-c7cf8068be3f",
   "metadata": {},
   "outputs": [
    {
     "name": "stdout",
     "output_type": "stream",
     "text": [
      "La ampolleta se ha apagado.\n"
     ]
    }
   ],
   "source": [
    "lam.apagar_lampara()"
   ]
  },
  {
   "cell_type": "code",
   "execution_count": 38,
   "id": "d4d78183-add6-4870-9edc-22288e50fb30",
   "metadata": {},
   "outputs": [
    {
     "name": "stdout",
     "output_type": "stream",
     "text": [
      "No me quedan ampolletas de reemplazo\n",
      "La ampolleta está quemada y no se puede apagar.\n",
      "No me quedan ampolletas de reemplazo\n",
      "La ampolleta está quemada y no se puede apagar.\n",
      "No me quedan ampolletas de reemplazo\n",
      "La ampolleta está quemada y no se puede apagar.\n",
      "No me quedan ampolletas de reemplazo\n",
      "La ampolleta está quemada y no se puede apagar.\n"
     ]
    }
   ],
   "source": [
    "for _ in range (4):\n",
    "    lam.encender_lampara()\n",
    "    lam.apagar_lampara()"
   ]
  },
  {
   "cell_type": "code",
   "execution_count": 34,
   "id": "05204992-e4b5-47ba-aa79-094d71c501f0",
   "metadata": {},
   "outputs": [
    {
     "name": "stdout",
     "output_type": "stream",
     "text": [
      "Todas las ampolletas de repuesto están buenas\n"
     ]
    }
   ],
   "source": [
    "lam.checkear_ampolletas_reemplaso()"
   ]
  },
  {
   "cell_type": "code",
   "execution_count": 36,
   "id": "70edc95d-9a62-49b6-819c-e485c9a93620",
   "metadata": {},
   "outputs": [
    {
     "name": "stdout",
     "output_type": "stream",
     "text": [
      "No necesito reemplazarla, no está quemada\n"
     ]
    }
   ],
   "source": [
    "lam.cambiar_ampolleta(\"ampolleta_nueva\")"
   ]
  },
  {
   "cell_type": "code",
   "execution_count": 39,
   "id": "2d596ea9-f769-4fdf-85bf-7aa9e89a9d22",
   "metadata": {},
   "outputs": [],
   "source": [
    "lampa=Lampara(\"sony\")"
   ]
  },
  {
   "cell_type": "code",
   "execution_count": 51,
   "id": "33d4e71c-6f38-4f2b-80b2-7df5ae443b3a",
   "metadata": {},
   "outputs": [
    {
     "name": "stdout",
     "output_type": "stream",
     "text": [
      "La ampolleta se ha encendido.\n"
     ]
    }
   ],
   "source": [
    "lampa.encender_lampara()"
   ]
  },
  {
   "cell_type": "code",
   "execution_count": 50,
   "id": "eae05adb-7373-4b38-a240-12690970bfc7",
   "metadata": {},
   "outputs": [
    {
     "name": "stdout",
     "output_type": "stream",
     "text": [
      "La ampolleta se ha apagado.\n"
     ]
    }
   ],
   "source": [
    "lampa.apagar_lampara()"
   ]
  },
  {
   "cell_type": "code",
   "execution_count": null,
   "id": "79c2dfa7-563d-4906-a0b1-2783fa028bd5",
   "metadata": {},
   "outputs": [],
   "source": []
  }
 ],
 "metadata": {
  "kernelspec": {
   "display_name": "Python 3 (ipykernel)",
   "language": "python",
   "name": "python3"
  },
  "language_info": {
   "codemirror_mode": {
    "name": "ipython",
    "version": 3
   },
   "file_extension": ".py",
   "mimetype": "text/x-python",
   "name": "python",
   "nbconvert_exporter": "python",
   "pygments_lexer": "ipython3",
   "version": "3.11.9"
  }
 },
 "nbformat": 4,
 "nbformat_minor": 5
}
